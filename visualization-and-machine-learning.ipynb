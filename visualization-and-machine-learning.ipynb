{
 "cells": [
  {
   "cell_type": "code",
   "execution_count": 1,
   "id": "5f4513a3",
   "metadata": {
    "execution": {
     "iopub.execute_input": "2023-12-19T12:57:15.995072Z",
     "iopub.status.busy": "2023-12-19T12:57:15.994551Z",
     "iopub.status.idle": "2023-12-19T12:57:16.000172Z",
     "shell.execute_reply": "2023-12-19T12:57:15.998957Z"
    },
    "papermill": {
     "duration": 0.021076,
     "end_time": "2023-12-19T12:57:16.002992",
     "exception": false,
     "start_time": "2023-12-19T12:57:15.981916",
     "status": "completed"
    },
    "tags": []
   },
   "outputs": [],
   "source": [
    "# https://www.kaggle.com/datasets/thomaseltonau/self-harm-and-substance-abuse-deaths-worldwide/data"
   ]
  },
  {
   "cell_type": "code",
   "execution_count": 2,
   "id": "605d3600",
   "metadata": {
    "execution": {
     "iopub.execute_input": "2023-12-19T12:57:16.024011Z",
     "iopub.status.busy": "2023-12-19T12:57:16.022491Z",
     "iopub.status.idle": "2023-12-19T12:57:18.577062Z",
     "shell.execute_reply": "2023-12-19T12:57:18.574930Z"
    },
    "papermill": {
     "duration": 2.56771,
     "end_time": "2023-12-19T12:57:18.580128",
     "exception": false,
     "start_time": "2023-12-19T12:57:16.012418",
     "status": "completed"
    },
    "tags": []
   },
   "outputs": [],
   "source": [
    "import pandas as pd\n",
    "import numpy as np\n",
    "import matplotlib.pyplot as plt\n",
    "import seaborn as sns"
   ]
  },
  {
   "cell_type": "code",
   "execution_count": 3,
   "id": "4419af24",
   "metadata": {
    "execution": {
     "iopub.execute_input": "2023-12-19T12:57:18.601151Z",
     "iopub.status.busy": "2023-12-19T12:57:18.600535Z",
     "iopub.status.idle": "2023-12-19T12:57:18.849155Z",
     "shell.execute_reply": "2023-12-19T12:57:18.847187Z"
    },
    "papermill": {
     "duration": 0.261989,
     "end_time": "2023-12-19T12:57:18.851832",
     "exception": false,
     "start_time": "2023-12-19T12:57:18.589843",
     "status": "completed"
    },
    "scrolled": true,
    "tags": []
   },
   "outputs": [
    {
     "data": {
      "text/html": [
       "<div>\n",
       "<style scoped>\n",
       "    .dataframe tbody tr th:only-of-type {\n",
       "        vertical-align: middle;\n",
       "    }\n",
       "\n",
       "    .dataframe tbody tr th {\n",
       "        vertical-align: top;\n",
       "    }\n",
       "\n",
       "    .dataframe thead th {\n",
       "        text-align: right;\n",
       "    }\n",
       "</style>\n",
       "<table border=\"1\" class=\"dataframe\">\n",
       "  <thead>\n",
       "    <tr style=\"text-align: right;\">\n",
       "      <th></th>\n",
       "      <th>Year</th>\n",
       "      <th>Cause</th>\n",
       "      <th>Age_Range</th>\n",
       "      <th>ISO_Code</th>\n",
       "      <th>Sex</th>\n",
       "      <th>Deaths</th>\n",
       "      <th>Age_and_Sex_Population</th>\n",
       "      <th>Country</th>\n",
       "    </tr>\n",
       "  </thead>\n",
       "  <tbody>\n",
       "    <tr>\n",
       "      <th>0</th>\n",
       "      <td>2017</td>\n",
       "      <td>Intentional self-harm</td>\n",
       "      <td>0</td>\n",
       "      <td>GBR</td>\n",
       "      <td>Female</td>\n",
       "      <td>0</td>\n",
       "      <td>743552.0</td>\n",
       "      <td>United Kingdom</td>\n",
       "    </tr>\n",
       "    <tr>\n",
       "      <th>1</th>\n",
       "      <td>2017</td>\n",
       "      <td>Intentional self-harm</td>\n",
       "      <td>0</td>\n",
       "      <td>GBR</td>\n",
       "      <td>Male</td>\n",
       "      <td>0</td>\n",
       "      <td>782850.0</td>\n",
       "      <td>United Kingdom</td>\n",
       "    </tr>\n",
       "    <tr>\n",
       "      <th>2</th>\n",
       "      <td>2017</td>\n",
       "      <td>Intentional self-harm</td>\n",
       "      <td>1</td>\n",
       "      <td>GBR</td>\n",
       "      <td>Female</td>\n",
       "      <td>0</td>\n",
       "      <td>768444.0</td>\n",
       "      <td>United Kingdom</td>\n",
       "    </tr>\n",
       "    <tr>\n",
       "      <th>3</th>\n",
       "      <td>2017</td>\n",
       "      <td>Intentional self-harm</td>\n",
       "      <td>1</td>\n",
       "      <td>GBR</td>\n",
       "      <td>Male</td>\n",
       "      <td>0</td>\n",
       "      <td>810126.0</td>\n",
       "      <td>United Kingdom</td>\n",
       "    </tr>\n",
       "    <tr>\n",
       "      <th>4</th>\n",
       "      <td>2017</td>\n",
       "      <td>Intentional self-harm</td>\n",
       "      <td>10-14</td>\n",
       "      <td>GBR</td>\n",
       "      <td>Female</td>\n",
       "      <td>16</td>\n",
       "      <td>3640314.0</td>\n",
       "      <td>United Kingdom</td>\n",
       "    </tr>\n",
       "  </tbody>\n",
       "</table>\n",
       "</div>"
      ],
      "text/plain": [
       "   Year                  Cause Age_Range ISO_Code     Sex  Deaths  \\\n",
       "0  2017  Intentional self-harm         0      GBR  Female       0   \n",
       "1  2017  Intentional self-harm         0      GBR    Male       0   \n",
       "2  2017  Intentional self-harm         1      GBR  Female       0   \n",
       "3  2017  Intentional self-harm         1      GBR    Male       0   \n",
       "4  2017  Intentional self-harm     10-14      GBR  Female      16   \n",
       "\n",
       "   Age_and_Sex_Population         Country  \n",
       "0                743552.0  United Kingdom  \n",
       "1                782850.0  United Kingdom  \n",
       "2                768444.0  United Kingdom  \n",
       "3                810126.0  United Kingdom  \n",
       "4               3640314.0  United Kingdom  "
      ]
     },
     "execution_count": 3,
     "metadata": {},
     "output_type": "execute_result"
    }
   ],
   "source": [
    "df = pd.read_csv('/kaggle/input/self-harm-and-substance-abuse-deaths-worldwide/world_wide_self_harm_and_substance_deaths.csv')\n",
    "\n",
    "df.head()"
   ]
  },
  {
   "cell_type": "code",
   "execution_count": 4,
   "id": "6222c5a1",
   "metadata": {
    "execution": {
     "iopub.execute_input": "2023-12-19T12:57:18.872589Z",
     "iopub.status.busy": "2023-12-19T12:57:18.871747Z",
     "iopub.status.idle": "2023-12-19T12:57:18.879051Z",
     "shell.execute_reply": "2023-12-19T12:57:18.877847Z"
    },
    "papermill": {
     "duration": 0.020835,
     "end_time": "2023-12-19T12:57:18.881658",
     "exception": false,
     "start_time": "2023-12-19T12:57:18.860823",
     "status": "completed"
    },
    "tags": []
   },
   "outputs": [
    {
     "data": {
      "text/plain": [
       "(48631, 8)"
      ]
     },
     "execution_count": 4,
     "metadata": {},
     "output_type": "execute_result"
    }
   ],
   "source": [
    "df.shape"
   ]
  },
  {
   "cell_type": "markdown",
   "id": "d962c767",
   "metadata": {
    "papermill": {
     "duration": 0.009135,
     "end_time": "2023-12-19T12:57:18.899837",
     "exception": false,
     "start_time": "2023-12-19T12:57:18.890702",
     "status": "completed"
    },
    "tags": []
   },
   "source": [
    "# Clean Data"
   ]
  },
  {
   "cell_type": "code",
   "execution_count": 5,
   "id": "842f23f5",
   "metadata": {
    "execution": {
     "iopub.execute_input": "2023-12-19T12:57:18.922557Z",
     "iopub.status.busy": "2023-12-19T12:57:18.921625Z",
     "iopub.status.idle": "2023-12-19T12:57:18.963527Z",
     "shell.execute_reply": "2023-12-19T12:57:18.961920Z"
    },
    "papermill": {
     "duration": 0.057401,
     "end_time": "2023-12-19T12:57:18.966200",
     "exception": false,
     "start_time": "2023-12-19T12:57:18.908799",
     "status": "completed"
    },
    "scrolled": true,
    "tags": []
   },
   "outputs": [
    {
     "name": "stdout",
     "output_type": "stream",
     "text": [
      "<class 'pandas.core.frame.DataFrame'>\n",
      "RangeIndex: 48631 entries, 0 to 48630\n",
      "Data columns (total 8 columns):\n",
      " #   Column                  Non-Null Count  Dtype  \n",
      "---  ------                  --------------  -----  \n",
      " 0   Year                    48631 non-null  int64  \n",
      " 1   Cause                   48631 non-null  object \n",
      " 2   Age_Range               48631 non-null  object \n",
      " 3   ISO_Code                48631 non-null  object \n",
      " 4   Sex                     48631 non-null  object \n",
      " 5   Deaths                  48631 non-null  int64  \n",
      " 6   Age_and_Sex_Population  28987 non-null  float64\n",
      " 7   Country                 48631 non-null  object \n",
      "dtypes: float64(1), int64(2), object(5)\n",
      "memory usage: 3.0+ MB\n"
     ]
    }
   ],
   "source": [
    "df.info()"
   ]
  },
  {
   "cell_type": "code",
   "execution_count": 6,
   "id": "c558af3f",
   "metadata": {
    "execution": {
     "iopub.execute_input": "2023-12-19T12:57:18.987280Z",
     "iopub.status.busy": "2023-12-19T12:57:18.986876Z",
     "iopub.status.idle": "2023-12-19T12:57:18.998202Z",
     "shell.execute_reply": "2023-12-19T12:57:18.997108Z"
    },
    "papermill": {
     "duration": 0.024267,
     "end_time": "2023-12-19T12:57:19.000493",
     "exception": false,
     "start_time": "2023-12-19T12:57:18.976226",
     "status": "completed"
    },
    "tags": []
   },
   "outputs": [
    {
     "data": {
      "text/plain": [
       "array(['Intentional self-harm',\n",
       "       'Mental and behavioural disorders due to psychoactive substance use'],\n",
       "      dtype=object)"
      ]
     },
     "execution_count": 6,
     "metadata": {},
     "output_type": "execute_result"
    }
   ],
   "source": [
    "df['Cause'].unique()"
   ]
  },
  {
   "cell_type": "code",
   "execution_count": 7,
   "id": "43e24bee",
   "metadata": {
    "execution": {
     "iopub.execute_input": "2023-12-19T12:57:19.021704Z",
     "iopub.status.busy": "2023-12-19T12:57:19.021331Z",
     "iopub.status.idle": "2023-12-19T12:57:19.039505Z",
     "shell.execute_reply": "2023-12-19T12:57:19.037980Z"
    },
    "papermill": {
     "duration": 0.033496,
     "end_time": "2023-12-19T12:57:19.043058",
     "exception": false,
     "start_time": "2023-12-19T12:57:19.009562",
     "status": "completed"
    },
    "tags": []
   },
   "outputs": [],
   "source": [
    "df.loc[df['Cause'] == 'Intentional self-harm', 'Cause'] = 'self-harm'\n",
    "df.loc[df['Cause'] == 'Mental and behavioural disorders due to psychoactive substance use', 'Cause'] = 'substance abuse'"
   ]
  },
  {
   "cell_type": "code",
   "execution_count": 8,
   "id": "cd916b68",
   "metadata": {
    "execution": {
     "iopub.execute_input": "2023-12-19T12:57:19.063853Z",
     "iopub.status.busy": "2023-12-19T12:57:19.063462Z",
     "iopub.status.idle": "2023-12-19T12:57:19.073756Z",
     "shell.execute_reply": "2023-12-19T12:57:19.072559Z"
    },
    "papermill": {
     "duration": 0.024102,
     "end_time": "2023-12-19T12:57:19.076416",
     "exception": false,
     "start_time": "2023-12-19T12:57:19.052314",
     "status": "completed"
    },
    "tags": []
   },
   "outputs": [
    {
     "data": {
      "text/plain": [
       "array(['0', '1', '10-14', '15-19', '2', '20-24', '25-29', '3', '30-34',\n",
       "       '35-39', '4', '40-44', '45-49', '5-9', '50-54', '55-59', '60-64',\n",
       "       '65-69', '70-74', '75-79', '80-84', '85-89', '90-94', '95+', 'All',\n",
       "       'Unknown', '1-4', '85+', '15-24', '25-34', '35-44', '45-54',\n",
       "       '5-14', '55-64', '65-74', '75+'], dtype=object)"
      ]
     },
     "execution_count": 8,
     "metadata": {},
     "output_type": "execute_result"
    }
   ],
   "source": [
    "df['Age_Range'].unique()"
   ]
  },
  {
   "cell_type": "code",
   "execution_count": 9,
   "id": "2e3358a1",
   "metadata": {
    "execution": {
     "iopub.execute_input": "2023-12-19T12:57:19.096577Z",
     "iopub.status.busy": "2023-12-19T12:57:19.096147Z",
     "iopub.status.idle": "2023-12-19T12:57:19.130651Z",
     "shell.execute_reply": "2023-12-19T12:57:19.129531Z"
    },
    "papermill": {
     "duration": 0.047745,
     "end_time": "2023-12-19T12:57:19.133476",
     "exception": false,
     "start_time": "2023-12-19T12:57:19.085731",
     "status": "completed"
    },
    "tags": []
   },
   "outputs": [
    {
     "data": {
      "text/html": [
       "<div>\n",
       "<style scoped>\n",
       "    .dataframe tbody tr th:only-of-type {\n",
       "        vertical-align: middle;\n",
       "    }\n",
       "\n",
       "    .dataframe tbody tr th {\n",
       "        vertical-align: top;\n",
       "    }\n",
       "\n",
       "    .dataframe thead th {\n",
       "        text-align: right;\n",
       "    }\n",
       "</style>\n",
       "<table border=\"1\" class=\"dataframe\">\n",
       "  <thead>\n",
       "    <tr style=\"text-align: right;\">\n",
       "      <th></th>\n",
       "      <th>Year</th>\n",
       "      <th>Cause</th>\n",
       "      <th>Age_Range</th>\n",
       "      <th>ISO_Code</th>\n",
       "      <th>Sex</th>\n",
       "      <th>Deaths</th>\n",
       "      <th>Age_and_Sex_Population</th>\n",
       "      <th>Country</th>\n",
       "    </tr>\n",
       "  </thead>\n",
       "  <tbody>\n",
       "    <tr>\n",
       "      <th>0</th>\n",
       "      <td>2017</td>\n",
       "      <td>self-harm</td>\n",
       "      <td>10-14</td>\n",
       "      <td>GBR</td>\n",
       "      <td>Female</td>\n",
       "      <td>16</td>\n",
       "      <td>3640314.0</td>\n",
       "      <td>United Kingdom</td>\n",
       "    </tr>\n",
       "    <tr>\n",
       "      <th>1</th>\n",
       "      <td>2017</td>\n",
       "      <td>self-harm</td>\n",
       "      <td>10-14</td>\n",
       "      <td>GBR</td>\n",
       "      <td>Male</td>\n",
       "      <td>16</td>\n",
       "      <td>3826458.0</td>\n",
       "      <td>United Kingdom</td>\n",
       "    </tr>\n",
       "    <tr>\n",
       "      <th>2</th>\n",
       "      <td>2017</td>\n",
       "      <td>self-harm</td>\n",
       "      <td>15-19</td>\n",
       "      <td>GBR</td>\n",
       "      <td>Female</td>\n",
       "      <td>104</td>\n",
       "      <td>3605202.0</td>\n",
       "      <td>United Kingdom</td>\n",
       "    </tr>\n",
       "    <tr>\n",
       "      <th>3</th>\n",
       "      <td>2017</td>\n",
       "      <td>self-harm</td>\n",
       "      <td>15-19</td>\n",
       "      <td>GBR</td>\n",
       "      <td>Male</td>\n",
       "      <td>208</td>\n",
       "      <td>3803268.0</td>\n",
       "      <td>United Kingdom</td>\n",
       "    </tr>\n",
       "    <tr>\n",
       "      <th>4</th>\n",
       "      <td>2017</td>\n",
       "      <td>self-harm</td>\n",
       "      <td>20-24</td>\n",
       "      <td>GBR</td>\n",
       "      <td>Female</td>\n",
       "      <td>136</td>\n",
       "      <td>4097544.0</td>\n",
       "      <td>United Kingdom</td>\n",
       "    </tr>\n",
       "    <tr>\n",
       "      <th>...</th>\n",
       "      <td>...</td>\n",
       "      <td>...</td>\n",
       "      <td>...</td>\n",
       "      <td>...</td>\n",
       "      <td>...</td>\n",
       "      <td>...</td>\n",
       "      <td>...</td>\n",
       "      <td>...</td>\n",
       "    </tr>\n",
       "    <tr>\n",
       "      <th>35080</th>\n",
       "      <td>2017</td>\n",
       "      <td>substance abuse</td>\n",
       "      <td>75-79</td>\n",
       "      <td>VIR</td>\n",
       "      <td>All</td>\n",
       "      <td>0</td>\n",
       "      <td>NaN</td>\n",
       "      <td>Virgin Islands (USA)</td>\n",
       "    </tr>\n",
       "    <tr>\n",
       "      <th>35081</th>\n",
       "      <td>2017</td>\n",
       "      <td>substance abuse</td>\n",
       "      <td>80-84</td>\n",
       "      <td>VIR</td>\n",
       "      <td>All</td>\n",
       "      <td>1</td>\n",
       "      <td>NaN</td>\n",
       "      <td>Virgin Islands (USA)</td>\n",
       "    </tr>\n",
       "    <tr>\n",
       "      <th>35082</th>\n",
       "      <td>2017</td>\n",
       "      <td>substance abuse</td>\n",
       "      <td>85-89</td>\n",
       "      <td>VIR</td>\n",
       "      <td>All</td>\n",
       "      <td>0</td>\n",
       "      <td>NaN</td>\n",
       "      <td>Virgin Islands (USA)</td>\n",
       "    </tr>\n",
       "    <tr>\n",
       "      <th>35083</th>\n",
       "      <td>2017</td>\n",
       "      <td>substance abuse</td>\n",
       "      <td>90-94</td>\n",
       "      <td>VIR</td>\n",
       "      <td>All</td>\n",
       "      <td>0</td>\n",
       "      <td>NaN</td>\n",
       "      <td>Virgin Islands (USA)</td>\n",
       "    </tr>\n",
       "    <tr>\n",
       "      <th>35084</th>\n",
       "      <td>2017</td>\n",
       "      <td>substance abuse</td>\n",
       "      <td>95+</td>\n",
       "      <td>VIR</td>\n",
       "      <td>All</td>\n",
       "      <td>0</td>\n",
       "      <td>NaN</td>\n",
       "      <td>Virgin Islands (USA)</td>\n",
       "    </tr>\n",
       "  </tbody>\n",
       "</table>\n",
       "<p>35085 rows × 8 columns</p>\n",
       "</div>"
      ],
      "text/plain": [
       "       Year            Cause Age_Range ISO_Code     Sex  Deaths  \\\n",
       "0      2017        self-harm     10-14      GBR  Female      16   \n",
       "1      2017        self-harm     10-14      GBR    Male      16   \n",
       "2      2017        self-harm     15-19      GBR  Female     104   \n",
       "3      2017        self-harm     15-19      GBR    Male     208   \n",
       "4      2017        self-harm     20-24      GBR  Female     136   \n",
       "...     ...              ...       ...      ...     ...     ...   \n",
       "35080  2017  substance abuse     75-79      VIR     All       0   \n",
       "35081  2017  substance abuse     80-84      VIR     All       1   \n",
       "35082  2017  substance abuse     85-89      VIR     All       0   \n",
       "35083  2017  substance abuse     90-94      VIR     All       0   \n",
       "35084  2017  substance abuse       95+      VIR     All       0   \n",
       "\n",
       "       Age_and_Sex_Population               Country  \n",
       "0                   3640314.0        United Kingdom  \n",
       "1                   3826458.0        United Kingdom  \n",
       "2                   3605202.0        United Kingdom  \n",
       "3                   3803268.0        United Kingdom  \n",
       "4                   4097544.0        United Kingdom  \n",
       "...                       ...                   ...  \n",
       "35080                     NaN  Virgin Islands (USA)  \n",
       "35081                     NaN  Virgin Islands (USA)  \n",
       "35082                     NaN  Virgin Islands (USA)  \n",
       "35083                     NaN  Virgin Islands (USA)  \n",
       "35084                     NaN  Virgin Islands (USA)  \n",
       "\n",
       "[35085 rows x 8 columns]"
      ]
     },
     "execution_count": 9,
     "metadata": {},
     "output_type": "execute_result"
    }
   ],
   "source": [
    "delete_age = ['0', '1', '2', '3', '4', 'All', 'Unknown', '85+', '15-24', '25-34', \n",
    "              '35-44', '45-54','5-14', '55-64', '65-74', '75+']\n",
    "\n",
    "df = df[~df['Age_Range'].isin(delete_age)].reset_index(drop = True)\n",
    "\n",
    "df"
   ]
  },
  {
   "cell_type": "code",
   "execution_count": 10,
   "id": "30ec352f",
   "metadata": {
    "execution": {
     "iopub.execute_input": "2023-12-19T12:57:19.154673Z",
     "iopub.status.busy": "2023-12-19T12:57:19.154295Z",
     "iopub.status.idle": "2023-12-19T12:57:19.165182Z",
     "shell.execute_reply": "2023-12-19T12:57:19.164266Z"
    },
    "papermill": {
     "duration": 0.023965,
     "end_time": "2023-12-19T12:57:19.167459",
     "exception": false,
     "start_time": "2023-12-19T12:57:19.143494",
     "status": "completed"
    },
    "tags": []
   },
   "outputs": [
    {
     "data": {
      "text/plain": [
       "array(['GBR', 'EGY', 'LBY', 'MUS', 'SYC', 'ZAF', 'TUN', 'AIA', 'ATG',\n",
       "       'ARG', 'ABW', 'BMU', 'BRA', 'CAN', 'CHL', 'COL', 'CRI', 'CUB',\n",
       "       'DMA', 'DOM', 'ECU', 'SLV', 'GRD', 'GTM', 'GUY', 'MEX', 'NIC',\n",
       "       'PAN', 'PRY', 'PER', 'PRI', 'LCA', 'VCT', 'TCA', 'USA', 'VIR',\n",
       "       'URY', 'BRN', 'CYP', 'HKG', 'ISR', 'JPN', 'JOR', 'KWT', 'LBN',\n",
       "       'MYS', 'MDV', 'MNG', 'PSE', 'OMN', 'PHL', 'QAT', 'KOR', 'SGP',\n",
       "       'THA', 'TUR', 'ARE', 'ARM', 'AUT', 'BLR', 'BEL', 'BIH', 'BGR',\n",
       "       'HRV', 'CZE', 'DNK', 'EST', 'FIN', 'FRA', 'GEO', 'DEU', 'GRC',\n",
       "       'HUN', 'ISL', 'IRL', 'ITA', 'KAZ', 'KGZ', 'LVA', 'LTU', 'LUX',\n",
       "       'MKD', 'MLT', 'MNE', 'NLD', 'POL', 'PRT', 'MDA', 'ROU', 'RUS',\n",
       "       'SRB', 'SVK', 'SVN', 'ESP', 'SWE', 'CHE', 'TJK', 'UKR', 'UZB',\n",
       "       'AUS', 'SLB'], dtype=object)"
      ]
     },
     "execution_count": 10,
     "metadata": {},
     "output_type": "execute_result"
    }
   ],
   "source": [
    "df['ISO_Code'].unique()"
   ]
  },
  {
   "cell_type": "code",
   "execution_count": 11,
   "id": "541dc227",
   "metadata": {
    "execution": {
     "iopub.execute_input": "2023-12-19T12:57:19.190722Z",
     "iopub.status.busy": "2023-12-19T12:57:19.190351Z",
     "iopub.status.idle": "2023-12-19T12:57:19.199472Z",
     "shell.execute_reply": "2023-12-19T12:57:19.198510Z"
    },
    "papermill": {
     "duration": 0.0243,
     "end_time": "2023-12-19T12:57:19.201816",
     "exception": false,
     "start_time": "2023-12-19T12:57:19.177516",
     "status": "completed"
    },
    "tags": []
   },
   "outputs": [
    {
     "data": {
      "text/plain": [
       "array(['Female', 'Male', 'Unspecified', 'All'], dtype=object)"
      ]
     },
     "execution_count": 11,
     "metadata": {},
     "output_type": "execute_result"
    }
   ],
   "source": [
    "df['Sex'].unique()"
   ]
  },
  {
   "cell_type": "code",
   "execution_count": 12,
   "id": "657dc60f",
   "metadata": {
    "execution": {
     "iopub.execute_input": "2023-12-19T12:57:19.224906Z",
     "iopub.status.busy": "2023-12-19T12:57:19.224531Z",
     "iopub.status.idle": "2023-12-19T12:57:19.249380Z",
     "shell.execute_reply": "2023-12-19T12:57:19.248238Z"
    },
    "papermill": {
     "duration": 0.040933,
     "end_time": "2023-12-19T12:57:19.252863",
     "exception": false,
     "start_time": "2023-12-19T12:57:19.211930",
     "status": "completed"
    },
    "scrolled": true,
    "tags": []
   },
   "outputs": [
    {
     "data": {
      "text/html": [
       "<div>\n",
       "<style scoped>\n",
       "    .dataframe tbody tr th:only-of-type {\n",
       "        vertical-align: middle;\n",
       "    }\n",
       "\n",
       "    .dataframe tbody tr th {\n",
       "        vertical-align: top;\n",
       "    }\n",
       "\n",
       "    .dataframe thead th {\n",
       "        text-align: right;\n",
       "    }\n",
       "</style>\n",
       "<table border=\"1\" class=\"dataframe\">\n",
       "  <thead>\n",
       "    <tr style=\"text-align: right;\">\n",
       "      <th></th>\n",
       "      <th>Year</th>\n",
       "      <th>Cause</th>\n",
       "      <th>Age_Range</th>\n",
       "      <th>ISO_Code</th>\n",
       "      <th>Sex</th>\n",
       "      <th>Deaths</th>\n",
       "      <th>Age_and_Sex_Population</th>\n",
       "      <th>Country</th>\n",
       "    </tr>\n",
       "  </thead>\n",
       "  <tbody>\n",
       "    <tr>\n",
       "      <th>0</th>\n",
       "      <td>2017</td>\n",
       "      <td>self-harm</td>\n",
       "      <td>10-14</td>\n",
       "      <td>GBR</td>\n",
       "      <td>Female</td>\n",
       "      <td>16</td>\n",
       "      <td>3640314.0</td>\n",
       "      <td>United Kingdom</td>\n",
       "    </tr>\n",
       "    <tr>\n",
       "      <th>1</th>\n",
       "      <td>2017</td>\n",
       "      <td>self-harm</td>\n",
       "      <td>10-14</td>\n",
       "      <td>GBR</td>\n",
       "      <td>Male</td>\n",
       "      <td>16</td>\n",
       "      <td>3826458.0</td>\n",
       "      <td>United Kingdom</td>\n",
       "    </tr>\n",
       "    <tr>\n",
       "      <th>2</th>\n",
       "      <td>2017</td>\n",
       "      <td>self-harm</td>\n",
       "      <td>15-19</td>\n",
       "      <td>GBR</td>\n",
       "      <td>Female</td>\n",
       "      <td>104</td>\n",
       "      <td>3605202.0</td>\n",
       "      <td>United Kingdom</td>\n",
       "    </tr>\n",
       "    <tr>\n",
       "      <th>3</th>\n",
       "      <td>2017</td>\n",
       "      <td>self-harm</td>\n",
       "      <td>15-19</td>\n",
       "      <td>GBR</td>\n",
       "      <td>Male</td>\n",
       "      <td>208</td>\n",
       "      <td>3803268.0</td>\n",
       "      <td>United Kingdom</td>\n",
       "    </tr>\n",
       "    <tr>\n",
       "      <th>4</th>\n",
       "      <td>2017</td>\n",
       "      <td>self-harm</td>\n",
       "      <td>20-24</td>\n",
       "      <td>GBR</td>\n",
       "      <td>Female</td>\n",
       "      <td>136</td>\n",
       "      <td>4097544.0</td>\n",
       "      <td>United Kingdom</td>\n",
       "    </tr>\n",
       "    <tr>\n",
       "      <th>...</th>\n",
       "      <td>...</td>\n",
       "      <td>...</td>\n",
       "      <td>...</td>\n",
       "      <td>...</td>\n",
       "      <td>...</td>\n",
       "      <td>...</td>\n",
       "      <td>...</td>\n",
       "      <td>...</td>\n",
       "    </tr>\n",
       "    <tr>\n",
       "      <th>23057</th>\n",
       "      <td>2017</td>\n",
       "      <td>self-harm</td>\n",
       "      <td>75-79</td>\n",
       "      <td>SLB</td>\n",
       "      <td>Male</td>\n",
       "      <td>0</td>\n",
       "      <td>NaN</td>\n",
       "      <td>Solomon Islands</td>\n",
       "    </tr>\n",
       "    <tr>\n",
       "      <th>23058</th>\n",
       "      <td>2017</td>\n",
       "      <td>self-harm</td>\n",
       "      <td>80-84</td>\n",
       "      <td>SLB</td>\n",
       "      <td>Male</td>\n",
       "      <td>0</td>\n",
       "      <td>NaN</td>\n",
       "      <td>Solomon Islands</td>\n",
       "    </tr>\n",
       "    <tr>\n",
       "      <th>23059</th>\n",
       "      <td>2017</td>\n",
       "      <td>self-harm</td>\n",
       "      <td>85-89</td>\n",
       "      <td>SLB</td>\n",
       "      <td>Male</td>\n",
       "      <td>0</td>\n",
       "      <td>NaN</td>\n",
       "      <td>Solomon Islands</td>\n",
       "    </tr>\n",
       "    <tr>\n",
       "      <th>23060</th>\n",
       "      <td>2017</td>\n",
       "      <td>self-harm</td>\n",
       "      <td>90-94</td>\n",
       "      <td>SLB</td>\n",
       "      <td>Male</td>\n",
       "      <td>0</td>\n",
       "      <td>NaN</td>\n",
       "      <td>Solomon Islands</td>\n",
       "    </tr>\n",
       "    <tr>\n",
       "      <th>23061</th>\n",
       "      <td>2017</td>\n",
       "      <td>self-harm</td>\n",
       "      <td>95+</td>\n",
       "      <td>SLB</td>\n",
       "      <td>Male</td>\n",
       "      <td>0</td>\n",
       "      <td>NaN</td>\n",
       "      <td>Solomon Islands</td>\n",
       "    </tr>\n",
       "  </tbody>\n",
       "</table>\n",
       "<p>23062 rows × 8 columns</p>\n",
       "</div>"
      ],
      "text/plain": [
       "       Year      Cause Age_Range ISO_Code     Sex  Deaths  \\\n",
       "0      2017  self-harm     10-14      GBR  Female      16   \n",
       "1      2017  self-harm     10-14      GBR    Male      16   \n",
       "2      2017  self-harm     15-19      GBR  Female     104   \n",
       "3      2017  self-harm     15-19      GBR    Male     208   \n",
       "4      2017  self-harm     20-24      GBR  Female     136   \n",
       "...     ...        ...       ...      ...     ...     ...   \n",
       "23057  2017  self-harm     75-79      SLB    Male       0   \n",
       "23058  2017  self-harm     80-84      SLB    Male       0   \n",
       "23059  2017  self-harm     85-89      SLB    Male       0   \n",
       "23060  2017  self-harm     90-94      SLB    Male       0   \n",
       "23061  2017  self-harm       95+      SLB    Male       0   \n",
       "\n",
       "       Age_and_Sex_Population          Country  \n",
       "0                   3640314.0   United Kingdom  \n",
       "1                   3826458.0   United Kingdom  \n",
       "2                   3605202.0   United Kingdom  \n",
       "3                   3803268.0   United Kingdom  \n",
       "4                   4097544.0   United Kingdom  \n",
       "...                       ...              ...  \n",
       "23057                     NaN  Solomon Islands  \n",
       "23058                     NaN  Solomon Islands  \n",
       "23059                     NaN  Solomon Islands  \n",
       "23060                     NaN  Solomon Islands  \n",
       "23061                     NaN  Solomon Islands  \n",
       "\n",
       "[23062 rows x 8 columns]"
      ]
     },
     "execution_count": 12,
     "metadata": {},
     "output_type": "execute_result"
    }
   ],
   "source": [
    "df = df[~df['Sex'].isin(['All'])].reset_index(drop = True)\n",
    "\n",
    "df"
   ]
  },
  {
   "cell_type": "markdown",
   "id": "ae19a734",
   "metadata": {
    "papermill": {
     "duration": 0.011939,
     "end_time": "2023-12-19T12:57:19.275625",
     "exception": false,
     "start_time": "2023-12-19T12:57:19.263686",
     "status": "completed"
    },
    "tags": []
   },
   "source": [
    "# Visualization"
   ]
  },
  {
   "cell_type": "code",
   "execution_count": 13,
   "id": "057a6d42",
   "metadata": {
    "execution": {
     "iopub.execute_input": "2023-12-19T12:57:19.300938Z",
     "iopub.status.busy": "2023-12-19T12:57:19.300570Z",
     "iopub.status.idle": "2023-12-19T12:57:20.302666Z",
     "shell.execute_reply": "2023-12-19T12:57:20.301585Z"
    },
    "papermill": {
     "duration": 1.022297,
     "end_time": "2023-12-19T12:57:20.309680",
     "exception": false,
     "start_time": "2023-12-19T12:57:19.287383",
     "status": "completed"
    },
    "tags": []
   },
   "outputs": [
    {
     "data": {
      "image/png": "[encoded data removed]",
      "text/plain": [
       "<Figure size 1000x1000 with 2 Axes>"
      ]
     },
     "metadata": {},
     "output_type": "display_data"
    }
   ],
   "source": [
    "selfharm_data = df[df['Cause'] == 'self-harm']\n",
    "AgeSex_vs_selfharm = selfharm_data.groupby(['Age_Range', 'Sex'])['Deaths'].sum().reset_index()\n",
    "AgeSex_vs_selfharm['Age_Sort'] = AgeSex_vs_selfharm['Age_Range'].str.replace('\\+', '', regex = True).str.split('-').str[0]\n",
    "AgeSex_vs_selfharm['Age_Sort'] = AgeSex_vs_selfharm['Age_Sort'].astype(int)\n",
    "AgeSex_vs_selfharm.sort_values(by = 'Age_Sort', inplace = True)\n",
    "AgeSex_vs_selfharm.drop(columns = 'Age_Sort', inplace = True)\n",
    "\n",
    "substance_abuse_data = df[df['Cause'] == 'substance abuse']\n",
    "AgeSex_vs_substance_abuse = substance_abuse_data.groupby(['Age_Range', 'Sex'])['Deaths'].sum().reset_index()\n",
    "AgeSex_vs_substance_abuse['Age_Sort'] = AgeSex_vs_substance_abuse['Age_Range'].str.replace('\\+', '', regex = True).str.split('-').str[0]\n",
    "AgeSex_vs_substance_abuse['Age_Sort'] = AgeSex_vs_substance_abuse['Age_Sort'].astype(int)\n",
    "AgeSex_vs_substance_abuse.sort_values(by = 'Age_Sort', inplace = True)\n",
    "AgeSex_vs_substance_abuse.drop(columns = 'Age_Sort', inplace = True)\n",
    "\n",
    "age_ranges = AgeSex_vs_selfharm['Age_Range'].unique()\n",
    "x = range(len(age_ranges))\n",
    "\n",
    "bar_width = 0.4\n",
    "\n",
    "fig, axs = plt.subplots(2, 1, figsize=(10, 10))\n",
    "plt.subplots_adjust(hspace = 0.4)\n",
    "\n",
    "# 1\n",
    "axs[0].bar(x, AgeSex_vs_selfharm[AgeSex_vs_selfharm['Sex'] == 'Male']['Deaths'], width = bar_width, label = 'Male', color = 'royalblue')\n",
    "axs[0].bar([i + bar_width for i in x], AgeSex_vs_selfharm[AgeSex_vs_selfharm['Sex'] == 'Female']['Deaths'], width = bar_width, label = 'Female', color = 'orange')\n",
    "\n",
    "axs[0].set_xlabel('Age & Sex')\n",
    "axs[0].set_ylabel('Deaths')\n",
    "axs[0].set_title('Number of Deaths by Age and Sex (Self-Harm)')\n",
    "\n",
    "axs[0].set_xticks([i + bar_width/2 for i in x], age_ranges, rotation = 90)\n",
    "axs[0].legend()\n",
    "# 2\n",
    "axs[1].bar(x, AgeSex_vs_substance_abuse[AgeSex_vs_substance_abuse['Sex'] == 'Male']['Deaths'], width = bar_width, label = 'Male', color = 'royalblue')\n",
    "axs[1].bar([i + bar_width for i in x], AgeSex_vs_substance_abuse[AgeSex_vs_substance_abuse['Sex'] == 'Female']['Deaths'], width = bar_width, label = 'Female', color = 'orange')\n",
    "\n",
    "axs[1].set_xlabel('Age & Sex')\n",
    "axs[1].set_ylabel('Deaths')\n",
    "axs[1].set_title('Number of Deaths by Age and Sex (Substance Abuse)')\n",
    "\n",
    "axs[1].set_xticks([i + bar_width/2 for i in x], age_ranges, rotation = 90)\n",
    "axs[1].legend()\n",
    "\n",
    "plt.show()\n"
   ]
  },
  {
   "cell_type": "code",
   "execution_count": 14,
   "id": "cd48f689",
   "metadata": {
    "execution": {
     "iopub.execute_input": "2023-12-19T12:57:20.336370Z",
     "iopub.status.busy": "2023-12-19T12:57:20.335948Z",
     "iopub.status.idle": "2023-12-19T12:57:23.463601Z",
     "shell.execute_reply": "2023-12-19T12:57:23.462136Z"
    },
    "papermill": {
     "duration": 3.144561,
     "end_time": "2023-12-19T12:57:23.467066",
     "exception": false,
     "start_time": "2023-12-19T12:57:20.322505",
     "status": "completed"
    },
    "tags": []
   },
   "outputs": [
    {
     "data": {
      "text/html": [
       "        <script type=\"text/javascript\">\n",
       "        window.PlotlyConfig = {MathJaxConfig: 'local'};\n",
       "        if (window.MathJax && window.MathJax.Hub && window.MathJax.Hub.Config) {window.MathJax.Hub.Config({SVG: {font: \"STIX-Web\"}});}\n",
       "        if (typeof require !== 'undefined') {\n",
       "        require.undef(\"plotly\");\n",
       "        requirejs.config({\n",
       "            paths: {\n",
       "                'plotly': ['https://cdn.plot.ly/plotly-2.25.2.min']\n",
       "            }\n",
       "        });\n",
       "        require(['plotly'], function(Plotly) {\n",
       "            window._Plotly = Plotly;\n",
       "        });\n",
       "        }\n",
       "        </script>\n",
       "        "
      ]
     },
     "metadata": {},
     "output_type": "display_data"
    },
    {
     "data": {
      "text/html": [
       "<div>                            <div id=\"07833058-b33a-42b1-90c1-ccf754cd7291\" class=\"plotly-graph-div\" style=\"height:525px; width:100%;\"></div>            <script type=\"text/javascript\">                require([\"plotly\"], function(Plotly) {                    window.PLOTLYENV=window.PLOTLYENV || {};                                    if (document.getElementById(\"07833058-b33a-42b1-90c1-ccf754cd7291\")) {                    Plotly.newPlot(                        \"07833058-b33a-42b1-90c1-ccf754cd7291\",                        [{\"coloraxis\":\"coloraxis\",\"geo\":\"geo\",\"hovertemplate\":\"ISO_Code=%{location}\\u003cbr\\u003eDeaths=%{z}\\u003cextra\\u003e\\u003c\\u002fextra\\u003e\",\"locations\":[\"ABW\",\"AIA\",\"ARE\",\"ARG\",\"ARM\",\"ATG\",\"AUS\",\"AUT\",\"BEL\",\"BGR\",\"BIH\",\"BLR\",\"BMU\",\"BRA\",\"BRN\",\"CAN\",\"CHE\",\"CHL\",\"COL\",\"CRI\",\"CUB\",\"CYP\",\"CZE\",\"DEU\",\"DMA\",\"DNK\",\"DOM\",\"ECU\",\"EGY\",\"ESP\",\"EST\",\"FIN\",\"FRA\",\"GBR\",\"GEO\",\"GRC\",\"GRD\",\"GTM\",\"GUY\",\"HKG\",\"HRV\",\"HUN\",\"IRL\",\"ISL\",\"ISR\",\"ITA\",\"JOR\",\"JPN\",\"KAZ\",\"KGZ\",\"KOR\",\"KWT\",\"LBN\",\"LBY\",\"LCA\",\"LTU\",\"LUX\",\"LVA\",\"MDA\",\"MDV\",\"MEX\",\"MKD\",\"MLT\",\"MNE\",\"MNG\",\"MUS\",\"MUS\",\"MYS\",\"NIC\",\"NLD\",\"OMN\",\"PAN\",\"PER\",\"PHL\",\"POL\",\"PRI\",\"PRT\",\"PRY\",\"PSE\",\"QAT\",\"ROU\",\"RUS\",\"SGP\",\"SLB\",\"SLV\",\"SRB\",\"SVK\",\"SVN\",\"SWE\",\"SYC\",\"TCA\",\"THA\",\"TJK\",\"TUN\",\"TUR\",\"UKR\",\"URY\",\"USA\",\"UZB\",\"VCT\",\"VIR\",\"ZAF\"],\"name\":\"\",\"z\":[31,1,383,14106,245,19,17703,9047,4405,2630,272,2016,3,89967,33,14844,5165,8006,11507,1556,8585,172,7286,57691,13,4327,1374,5845,238,20312,1322,4024,10280,52610,1083,2265,29,4227,590,781,2606,6098,459,235,1937,12691,27,81627,12169,1165,57056,445,144,8,43,3373,398,2205,1207,6,38476,597,29,102,2288,1097,8,110,2251,9784,38,461,2221,9363,31517,342,3374,2923,2,266,6012,69872,1284,1,1577,6014,1721,3009,3007,0,3,18800,199,80,9565,21037,3219,251753,7030,11,19,2041],\"type\":\"choropleth\"}],                        {\"template\":{\"data\":{\"histogram2dcontour\":[{\"type\":\"histogram2dcontour\",\"colorbar\":{\"outlinewidth\":0,\"ticks\":\"\"},\"colorscale\":[[0.0,\"#0d0887\"],[0.1111111111111111,\"#46039f\"],[0.2222222222222222,\"#7201a8\"],[0.3333333333333333,\"#9c179e\"],[0.4444444444444444,\"#bd3786\"],[0.5555555555555556,\"#d8576b\"],[0.6666666666666666,\"#ed7953\"],[0.7777777777777778,\"#fb9f3a\"],[0.8888888888888888,\"#fdca26\"],[1.0,\"#f0f921\"]]}],\"choropleth\":[{\"type\":\"choropleth\",\"colorbar\":{\"outlinewidth\":0,\"ticks\":\"\"}}],\"histogram2d\":[{\"type\":\"histogram2d\",\"colorbar\":{\"outlinewidth\":0,\"ticks\":\"\"},\"colorscale\":[[0.0,\"#0d0887\"],[0.1111111111111111,\"#46039f\"],[0.2222222222222222,\"#7201a8\"],[0.3333333333333333,\"#9c179e\"],[0.4444444444444444,\"#bd3786\"],[0.5555555555555556,\"#d8576b\"],[0.6666666666666666,\"#ed7953\"],[0.7777777777777778,\"#fb9f3a\"],[0.8888888888888888,\"#fdca26\"],[1.0,\"#f0f921\"]]}],\"heatmap\":[{\"type\":\"heatmap\",\"colorbar\":{\"outlinewidth\":0,\"ticks\":\"\"},\"colorscale\":[[0.0,\"#0d0887\"],[0.1111111111111111,\"#46039f\"],[0.2222222222222222,\"#7201a8\"],[0.3333333333333333,\"#9c179e\"],[0.4444444444444444,\"#bd3786\"],[0.5555555555555556,\"#d8576b\"],[0.6666666666666666,\"#ed7953\"],[0.7777777777777778,\"#fb9f3a\"],[0.8888888888888888,\"#fdca26\"],[1.0,\"#f0f921\"]]}],\"heatmapgl\":[{\"type\":\"heatmapgl\",\"colorbar\":{\"outlinewidth\":0,\"ticks\":\"\"},\"colorscale\":[[0.0,\"#0d0887\"],[0.1111111111111111,\"#46039f\"],[0.2222222222222222,\"#7201a8\"],[0.3333333333333333,\"#9c179e\"],[0.4444444444444444,\"#bd3786\"],[0.5555555555555556,\"#d8576b\"],[0.6666666666666666,\"#ed7953\"],[0.7777777777777778,\"#fb9f3a\"],[0.8888888888888888,\"#fdca26\"],[1.0,\"#f0f921\"]]}],\"contourcarpet\":[{\"type\":\"contourcarpet\",\"colorbar\":{\"outlinewidth\":0,\"ticks\":\"\"}}],\"contour\":[{\"type\":\"contour\",\"colorbar\":{\"outlinewidth\":0,\"ticks\":\"\"},\"colorscale\":[[0.0,\"#0d0887\"],[0.1111111111111111,\"#46039f\"],[0.2222222222222222,\"#7201a8\"],[0.3333333333333333,\"#9c179e\"],[0.4444444444444444,\"#bd3786\"],[0.5555555555555556,\"#d8576b\"],[0.6666666666666666,\"#ed7953\"],[0.7777777777777778,\"#fb9f3a\"],[0.8888888888888888,\"#fdca26\"],[1.0,\"#f0f921\"]]}],\"surface\":[{\"type\":\"surface\",\"colorbar\":{\"outlinewidth\":0,\"ticks\":\"\"},\"colorscale\":[[0.0,\"#0d0887\"],[0.1111111111111111,\"#46039f\"],[0.2222222222222222,\"#7201a8\"],[0.3333333333333333,\"#9c179e\"],[0.4444444444444444,\"#bd3786\"],[0.5555555555555556,\"#d8576b\"],[0.6666666666666666,\"#ed7953\"],[0.7777777777777778,\"#fb9f3a\"],[0.8888888888888888,\"#fdca26\"],[1.0,\"#f0f921\"]]}],\"mesh3d\":[{\"type\":\"mesh3d\",\"colorbar\":{\"outlinewidth\":0,\"ticks\":\"\"}}],\"scatter\":[{\"fillpattern\":{\"fillmode\":\"overlay\",\"size\":10,\"solidity\":0.2},\"type\":\"scatter\"}],\"parcoords\":[{\"type\":\"parcoords\",\"line\":{\"colorbar\":{\"outlinewidth\":0,\"ticks\":\"\"}}}],\"scatterpolargl\":[{\"type\":\"scatterpolargl\",\"marker\":{\"colorbar\":{\"outlinewidth\":0,\"ticks\":\"\"}}}],\"bar\":[{\"error_x\":{\"color\":\"#2a3f5f\"},\"error_y\":{\"color\":\"#2a3f5f\"},\"marker\":{\"line\":{\"color\":\"#E5ECF6\",\"width\":0.5},\"pattern\":{\"fillmode\":\"overlay\",\"size\":10,\"solidity\":0.2}},\"type\":\"bar\"}],\"scattergeo\":[{\"type\":\"scattergeo\",\"marker\":{\"colorbar\":{\"outlinewidth\":0,\"ticks\":\"\"}}}],\"scatterpolar\":[{\"type\":\"scatterpolar\",\"marker\":{\"colorbar\":{\"outlinewidth\":0,\"ticks\":\"\"}}}],\"histogram\":[{\"marker\":{\"pattern\":{\"fillmode\":\"overlay\",\"size\":10,\"solidity\":0.2}},\"type\":\"histogram\"}],\"scattergl\":[{\"type\":\"scattergl\",\"marker\":{\"colorbar\":{\"outlinewidth\":0,\"ticks\":\"\"}}}],\"scatter3d\":[{\"type\":\"scatter3d\",\"line\":{\"colorbar\":{\"outlinewidth\":0,\"ticks\":\"\"}},\"marker\":{\"colorbar\":{\"outlinewidth\":0,\"ticks\":\"\"}}}],\"scattermapbox\":[{\"type\":\"scattermapbox\",\"marker\":{\"colorbar\":{\"outlinewidth\":0,\"ticks\":\"\"}}}],\"scatterternary\":[{\"type\":\"scatterternary\",\"marker\":{\"colorbar\":{\"outlinewidth\":0,\"ticks\":\"\"}}}],\"scattercarpet\":[{\"type\":\"scattercarpet\",\"marker\":{\"colorbar\":{\"outlinewidth\":0,\"ticks\":\"\"}}}],\"carpet\":[{\"aaxis\":{\"endlinecolor\":\"#2a3f5f\",\"gridcolor\":\"white\",\"linecolor\":\"white\",\"minorgridcolor\":\"white\",\"startlinecolor\":\"#2a3f5f\"},\"baxis\":{\"endlinecolor\":\"#2a3f5f\",\"gridcolor\":\"white\",\"linecolor\":\"white\",\"minorgridcolor\":\"white\",\"startlinecolor\":\"#2a3f5f\"},\"type\":\"carpet\"}],\"table\":[{\"cells\":{\"fill\":{\"color\":\"#EBF0F8\"},\"line\":{\"color\":\"white\"}},\"header\":{\"fill\":{\"color\":\"#C8D4E3\"},\"line\":{\"color\":\"white\"}},\"type\":\"table\"}],\"barpolar\":[{\"marker\":{\"line\":{\"color\":\"#E5ECF6\",\"width\":0.5},\"pattern\":{\"fillmode\":\"overlay\",\"size\":10,\"solidity\":0.2}},\"type\":\"barpolar\"}],\"pie\":[{\"automargin\":true,\"type\":\"pie\"}]},\"layout\":{\"autotypenumbers\":\"strict\",\"colorway\":[\"#636efa\",\"#EF553B\",\"#00cc96\",\"#ab63fa\",\"#FFA15A\",\"#19d3f3\",\"#FF6692\",\"#B6E880\",\"#FF97FF\",\"#FECB52\"],\"font\":{\"color\":\"#2a3f5f\"},\"hovermode\":\"closest\",\"hoverlabel\":{\"align\":\"left\"},\"paper_bgcolor\":\"white\",\"plot_bgcolor\":\"#E5ECF6\",\"polar\":{\"bgcolor\":\"#E5ECF6\",\"angularaxis\":{\"gridcolor\":\"white\",\"linecolor\":\"white\",\"ticks\":\"\"},\"radialaxis\":{\"gridcolor\":\"white\",\"linecolor\":\"white\",\"ticks\":\"\"}},\"ternary\":{\"bgcolor\":\"#E5ECF6\",\"aaxis\":{\"gridcolor\":\"white\",\"linecolor\":\"white\",\"ticks\":\"\"},\"baxis\":{\"gridcolor\":\"white\",\"linecolor\":\"white\",\"ticks\":\"\"},\"caxis\":{\"gridcolor\":\"white\",\"linecolor\":\"white\",\"ticks\":\"\"}},\"coloraxis\":{\"colorbar\":{\"outlinewidth\":0,\"ticks\":\"\"}},\"colorscale\":{\"sequential\":[[0.0,\"#0d0887\"],[0.1111111111111111,\"#46039f\"],[0.2222222222222222,\"#7201a8\"],[0.3333333333333333,\"#9c179e\"],[0.4444444444444444,\"#bd3786\"],[0.5555555555555556,\"#d8576b\"],[0.6666666666666666,\"#ed7953\"],[0.7777777777777778,\"#fb9f3a\"],[0.8888888888888888,\"#fdca26\"],[1.0,\"#f0f921\"]],\"sequentialminus\":[[0.0,\"#0d0887\"],[0.1111111111111111,\"#46039f\"],[0.2222222222222222,\"#7201a8\"],[0.3333333333333333,\"#9c179e\"],[0.4444444444444444,\"#bd3786\"],[0.5555555555555556,\"#d8576b\"],[0.6666666666666666,\"#ed7953\"],[0.7777777777777778,\"#fb9f3a\"],[0.8888888888888888,\"#fdca26\"],[1.0,\"#f0f921\"]],\"diverging\":[[0,\"#8e0152\"],[0.1,\"#c51b7d\"],[0.2,\"#de77ae\"],[0.3,\"#f1b6da\"],[0.4,\"#fde0ef\"],[0.5,\"#f7f7f7\"],[0.6,\"#e6f5d0\"],[0.7,\"#b8e186\"],[0.8,\"#7fbc41\"],[0.9,\"#4d9221\"],[1,\"#276419\"]]},\"xaxis\":{\"gridcolor\":\"white\",\"linecolor\":\"white\",\"ticks\":\"\",\"title\":{\"standoff\":15},\"zerolinecolor\":\"white\",\"automargin\":true,\"zerolinewidth\":2},\"yaxis\":{\"gridcolor\":\"white\",\"linecolor\":\"white\",\"ticks\":\"\",\"title\":{\"standoff\":15},\"zerolinecolor\":\"white\",\"automargin\":true,\"zerolinewidth\":2},\"scene\":{\"xaxis\":{\"backgroundcolor\":\"#E5ECF6\",\"gridcolor\":\"white\",\"linecolor\":\"white\",\"showbackground\":true,\"ticks\":\"\",\"zerolinecolor\":\"white\",\"gridwidth\":2},\"yaxis\":{\"backgroundcolor\":\"#E5ECF6\",\"gridcolor\":\"white\",\"linecolor\":\"white\",\"showbackground\":true,\"ticks\":\"\",\"zerolinecolor\":\"white\",\"gridwidth\":2},\"zaxis\":{\"backgroundcolor\":\"#E5ECF6\",\"gridcolor\":\"white\",\"linecolor\":\"white\",\"showbackground\":true,\"ticks\":\"\",\"zerolinecolor\":\"white\",\"gridwidth\":2}},\"shapedefaults\":{\"line\":{\"color\":\"#2a3f5f\"}},\"annotationdefaults\":{\"arrowcolor\":\"#2a3f5f\",\"arrowhead\":0,\"arrowwidth\":1},\"geo\":{\"bgcolor\":\"white\",\"landcolor\":\"#E5ECF6\",\"subunitcolor\":\"white\",\"showland\":true,\"showlakes\":true,\"lakecolor\":\"white\"},\"title\":{\"x\":0.05},\"mapbox\":{\"style\":\"light\"}}},\"geo\":{\"domain\":{\"x\":[0.0,1.0],\"y\":[0.0,1.0]},\"projection\":{\"type\":\"natural earth\"},\"center\":{}},\"coloraxis\":{\"colorbar\":{\"title\":{\"text\":\"Deaths\"}},\"colorscale\":[[0.0,\"royalblue\"],[1.0,\"orange\"]]},\"legend\":{\"tracegroupgap\":0},\"title\":{\"text\":\"Worldwide Deaths by Country (ISO Code)\"}},                        {\"responsive\": true}                    ).then(function(){\n",
       "                            \n",
       "var gd = document.getElementById('07833058-b33a-42b1-90c1-ccf754cd7291');\n",
       "var x = new MutationObserver(function (mutations, observer) {{\n",
       "        var display = window.getComputedStyle(gd).display;\n",
       "        if (!display || display === 'none') {{\n",
       "            console.log([gd, 'removed!']);\n",
       "            Plotly.purge(gd);\n",
       "            observer.disconnect();\n",
       "        }}\n",
       "}});\n",
       "\n",
       "// Listen for the removal of the full notebook cells\n",
       "var notebookContainer = gd.closest('#notebook-container');\n",
       "if (notebookContainer) {{\n",
       "    x.observe(notebookContainer, {childList: true});\n",
       "}}\n",
       "\n",
       "// Listen for the clearing of the current output cell\n",
       "var outputEl = gd.closest('.output');\n",
       "if (outputEl) {{\n",
       "    x.observe(outputEl, {childList: true});\n",
       "}}\n",
       "\n",
       "                        })                };                });            </script>        </div>"
      ]
     },
     "metadata": {},
     "output_type": "display_data"
    }
   ],
   "source": [
    "import plotly.express as px\n",
    "\n",
    "geo_data = df[['ISO_Code', 'Country', 'Deaths']]\n",
    "geo_data = geo_data.groupby(['ISO_Code', 'Country'])['Deaths'].sum().reset_index()\n",
    "\n",
    "fig = px.choropleth(\n",
    "    geo_data,\n",
    "    locations = \"ISO_Code\",\n",
    "    color = \"Deaths\",\n",
    "    title = \"Worldwide Deaths by Country (ISO Code)\",\n",
    "    color_continuous_scale = [\"royalblue\", 'orange'],\n",
    "    projection = \"natural earth\"\n",
    ")\n",
    "\n",
    "fig.show()"
   ]
  },
  {
   "cell_type": "markdown",
   "id": "15093eaa",
   "metadata": {
    "papermill": {
     "duration": 0.01209,
     "end_time": "2023-12-19T12:57:23.491868",
     "exception": false,
     "start_time": "2023-12-19T12:57:23.479778",
     "status": "completed"
    },
    "tags": []
   },
   "source": [
    "# Machine Learning"
   ]
  },
  {
   "cell_type": "code",
   "execution_count": 15,
   "id": "022f6f19",
   "metadata": {
    "execution": {
     "iopub.execute_input": "2023-12-19T12:57:23.518438Z",
     "iopub.status.busy": "2023-12-19T12:57:23.517954Z",
     "iopub.status.idle": "2023-12-19T12:57:23.524743Z",
     "shell.execute_reply": "2023-12-19T12:57:23.523468Z"
    },
    "papermill": {
     "duration": 0.02276,
     "end_time": "2023-12-19T12:57:23.527304",
     "exception": false,
     "start_time": "2023-12-19T12:57:23.504544",
     "status": "completed"
    },
    "tags": []
   },
   "outputs": [],
   "source": [
    "# one-hot encoding\n",
    "\n",
    "def convert_dummy(df, feature):\n",
    "    pos = pd.get_dummies(df[feature], prefix = feature)\n",
    "    mode = df[feature].value_counts().index[0]\n",
    "    biggest = feature + '_' + mode\n",
    "    pos.drop([biggest], axis = 1, inplace = True)\n",
    "    df.drop([feature], axis = 1, inplace = True)\n",
    "    df = df.join(pos)\n",
    "    return df"
   ]
  },
  {
   "cell_type": "code",
   "execution_count": 16,
   "id": "80b21772",
   "metadata": {
    "execution": {
     "iopub.execute_input": "2023-12-19T12:57:23.552355Z",
     "iopub.status.busy": "2023-12-19T12:57:23.551900Z",
     "iopub.status.idle": "2023-12-19T12:57:23.859727Z",
     "shell.execute_reply": "2023-12-19T12:57:23.858302Z"
    },
    "papermill": {
     "duration": 0.324436,
     "end_time": "2023-12-19T12:57:23.863396",
     "exception": false,
     "start_time": "2023-12-19T12:57:23.538960",
     "status": "completed"
    },
    "tags": []
   },
   "outputs": [],
   "source": [
    "# Evaluate indicators\n",
    "\n",
    "from sklearn.metrics import mean_squared_error, mean_absolute_error, r2_score\n",
    "\n",
    "def get_indicators(name, y_test, y_pred):\n",
    "    mse = mean_squared_error(y_test, y_pred)\n",
    "    rmse = mean_squared_error(y_test, y_pred, squared = False)\n",
    "    mae = mean_absolute_error(y_test, y_pred)\n",
    "    r_squared = r2_score(y_test, y_pred)\n",
    "    \n",
    "    results = [name, mse, rmse, mae, r_squared]\n",
    "    \n",
    "    return results\n",
    "\n",
    "EItable = pd.DataFrame(columns = ['Model', 'MSE', 'RMSE', 'MAE', 'R-squared'])"
   ]
  },
  {
   "cell_type": "code",
   "execution_count": 17,
   "id": "5b90fa2f",
   "metadata": {
    "execution": {
     "iopub.execute_input": "2023-12-19T12:57:23.890759Z",
     "iopub.status.busy": "2023-12-19T12:57:23.890361Z",
     "iopub.status.idle": "2023-12-19T12:57:23.908033Z",
     "shell.execute_reply": "2023-12-19T12:57:23.906338Z"
    },
    "papermill": {
     "duration": 0.034747,
     "end_time": "2023-12-19T12:57:23.910706",
     "exception": false,
     "start_time": "2023-12-19T12:57:23.875959",
     "status": "completed"
    },
    "tags": []
   },
   "outputs": [
    {
     "data": {
      "text/html": [
       "<div>\n",
       "<style scoped>\n",
       "    .dataframe tbody tr th:only-of-type {\n",
       "        vertical-align: middle;\n",
       "    }\n",
       "\n",
       "    .dataframe tbody tr th {\n",
       "        vertical-align: top;\n",
       "    }\n",
       "\n",
       "    .dataframe thead th {\n",
       "        text-align: right;\n",
       "    }\n",
       "</style>\n",
       "<table border=\"1\" class=\"dataframe\">\n",
       "  <thead>\n",
       "    <tr style=\"text-align: right;\">\n",
       "      <th></th>\n",
       "      <th>Cause</th>\n",
       "      <th>Age_Range</th>\n",
       "      <th>Sex</th>\n",
       "      <th>Deaths</th>\n",
       "      <th>Country</th>\n",
       "    </tr>\n",
       "  </thead>\n",
       "  <tbody>\n",
       "    <tr>\n",
       "      <th>0</th>\n",
       "      <td>self-harm</td>\n",
       "      <td>10-14</td>\n",
       "      <td>Female</td>\n",
       "      <td>16</td>\n",
       "      <td>United Kingdom</td>\n",
       "    </tr>\n",
       "    <tr>\n",
       "      <th>1</th>\n",
       "      <td>self-harm</td>\n",
       "      <td>10-14</td>\n",
       "      <td>Male</td>\n",
       "      <td>16</td>\n",
       "      <td>United Kingdom</td>\n",
       "    </tr>\n",
       "    <tr>\n",
       "      <th>2</th>\n",
       "      <td>self-harm</td>\n",
       "      <td>15-19</td>\n",
       "      <td>Female</td>\n",
       "      <td>104</td>\n",
       "      <td>United Kingdom</td>\n",
       "    </tr>\n",
       "    <tr>\n",
       "      <th>3</th>\n",
       "      <td>self-harm</td>\n",
       "      <td>15-19</td>\n",
       "      <td>Male</td>\n",
       "      <td>208</td>\n",
       "      <td>United Kingdom</td>\n",
       "    </tr>\n",
       "    <tr>\n",
       "      <th>4</th>\n",
       "      <td>self-harm</td>\n",
       "      <td>20-24</td>\n",
       "      <td>Female</td>\n",
       "      <td>136</td>\n",
       "      <td>United Kingdom</td>\n",
       "    </tr>\n",
       "  </tbody>\n",
       "</table>\n",
       "</div>"
      ],
      "text/plain": [
       "       Cause Age_Range     Sex  Deaths         Country\n",
       "0  self-harm     10-14  Female      16  United Kingdom\n",
       "1  self-harm     10-14    Male      16  United Kingdom\n",
       "2  self-harm     15-19  Female     104  United Kingdom\n",
       "3  self-harm     15-19    Male     208  United Kingdom\n",
       "4  self-harm     20-24  Female     136  United Kingdom"
      ]
     },
     "execution_count": 17,
     "metadata": {},
     "output_type": "execute_result"
    }
   ],
   "source": [
    "ml_df = df.drop(columns = ['Year', 'ISO_Code', 'Age_and_Sex_Population'])\n",
    "\n",
    "ml_df.head()"
   ]
  },
  {
   "cell_type": "code",
   "execution_count": 18,
   "id": "8fc863d4",
   "metadata": {
    "execution": {
     "iopub.execute_input": "2023-12-19T12:57:23.937423Z",
     "iopub.status.busy": "2023-12-19T12:57:23.937008Z",
     "iopub.status.idle": "2023-12-19T12:57:23.964360Z",
     "shell.execute_reply": "2023-12-19T12:57:23.963018Z"
    },
    "papermill": {
     "duration": 0.043665,
     "end_time": "2023-12-19T12:57:23.967561",
     "exception": false,
     "start_time": "2023-12-19T12:57:23.923896",
     "status": "completed"
    },
    "tags": []
   },
   "outputs": [
    {
     "data": {
      "text/html": [
       "<div>\n",
       "<style scoped>\n",
       "    .dataframe tbody tr th:only-of-type {\n",
       "        vertical-align: middle;\n",
       "    }\n",
       "\n",
       "    .dataframe tbody tr th {\n",
       "        vertical-align: top;\n",
       "    }\n",
       "\n",
       "    .dataframe thead th {\n",
       "        text-align: right;\n",
       "    }\n",
       "</style>\n",
       "<table border=\"1\" class=\"dataframe\">\n",
       "  <thead>\n",
       "    <tr style=\"text-align: right;\">\n",
       "      <th></th>\n",
       "      <th>Age_Range</th>\n",
       "      <th>Sex</th>\n",
       "      <th>Deaths</th>\n",
       "      <th>Country</th>\n",
       "      <th>Cause_substance abuse</th>\n",
       "    </tr>\n",
       "  </thead>\n",
       "  <tbody>\n",
       "    <tr>\n",
       "      <th>0</th>\n",
       "      <td>10-14</td>\n",
       "      <td>Female</td>\n",
       "      <td>16</td>\n",
       "      <td>United Kingdom</td>\n",
       "      <td>False</td>\n",
       "    </tr>\n",
       "    <tr>\n",
       "      <th>1</th>\n",
       "      <td>10-14</td>\n",
       "      <td>Male</td>\n",
       "      <td>16</td>\n",
       "      <td>United Kingdom</td>\n",
       "      <td>False</td>\n",
       "    </tr>\n",
       "    <tr>\n",
       "      <th>2</th>\n",
       "      <td>15-19</td>\n",
       "      <td>Female</td>\n",
       "      <td>104</td>\n",
       "      <td>United Kingdom</td>\n",
       "      <td>False</td>\n",
       "    </tr>\n",
       "    <tr>\n",
       "      <th>3</th>\n",
       "      <td>15-19</td>\n",
       "      <td>Male</td>\n",
       "      <td>208</td>\n",
       "      <td>United Kingdom</td>\n",
       "      <td>False</td>\n",
       "    </tr>\n",
       "    <tr>\n",
       "      <th>4</th>\n",
       "      <td>20-24</td>\n",
       "      <td>Female</td>\n",
       "      <td>136</td>\n",
       "      <td>United Kingdom</td>\n",
       "      <td>False</td>\n",
       "    </tr>\n",
       "  </tbody>\n",
       "</table>\n",
       "</div>"
      ],
      "text/plain": [
       "  Age_Range     Sex  Deaths         Country  Cause_substance abuse\n",
       "0     10-14  Female      16  United Kingdom                  False\n",
       "1     10-14    Male      16  United Kingdom                  False\n",
       "2     15-19  Female     104  United Kingdom                  False\n",
       "3     15-19    Male     208  United Kingdom                  False\n",
       "4     20-24  Female     136  United Kingdom                  False"
      ]
     },
     "execution_count": 18,
     "metadata": {},
     "output_type": "execute_result"
    }
   ],
   "source": [
    "# Categorical Features: Cause\n",
    "\n",
    "ml_df = convert_dummy(ml_df, 'Cause')\n",
    "ml_df.head()"
   ]
  },
  {
   "cell_type": "code",
   "execution_count": 19,
   "id": "5278ff7f",
   "metadata": {
    "execution": {
     "iopub.execute_input": "2023-12-19T12:57:23.993822Z",
     "iopub.status.busy": "2023-12-19T12:57:23.993395Z",
     "iopub.status.idle": "2023-12-19T12:57:24.016206Z",
     "shell.execute_reply": "2023-12-19T12:57:24.014481Z"
    },
    "papermill": {
     "duration": 0.039629,
     "end_time": "2023-12-19T12:57:24.019695",
     "exception": false,
     "start_time": "2023-12-19T12:57:23.980066",
     "status": "completed"
    },
    "tags": []
   },
   "outputs": [
    {
     "data": {
      "text/html": [
       "<div>\n",
       "<style scoped>\n",
       "    .dataframe tbody tr th:only-of-type {\n",
       "        vertical-align: middle;\n",
       "    }\n",
       "\n",
       "    .dataframe tbody tr th {\n",
       "        vertical-align: top;\n",
       "    }\n",
       "\n",
       "    .dataframe thead th {\n",
       "        text-align: right;\n",
       "    }\n",
       "</style>\n",
       "<table border=\"1\" class=\"dataframe\">\n",
       "  <thead>\n",
       "    <tr style=\"text-align: right;\">\n",
       "      <th></th>\n",
       "      <th>Sex</th>\n",
       "      <th>Deaths</th>\n",
       "      <th>Country</th>\n",
       "      <th>Cause_substance abuse</th>\n",
       "      <th>Age_Range_encoded</th>\n",
       "    </tr>\n",
       "  </thead>\n",
       "  <tbody>\n",
       "    <tr>\n",
       "      <th>0</th>\n",
       "      <td>Female</td>\n",
       "      <td>16</td>\n",
       "      <td>United Kingdom</td>\n",
       "      <td>False</td>\n",
       "      <td>2</td>\n",
       "    </tr>\n",
       "    <tr>\n",
       "      <th>1</th>\n",
       "      <td>Male</td>\n",
       "      <td>16</td>\n",
       "      <td>United Kingdom</td>\n",
       "      <td>False</td>\n",
       "      <td>2</td>\n",
       "    </tr>\n",
       "    <tr>\n",
       "      <th>2</th>\n",
       "      <td>Female</td>\n",
       "      <td>104</td>\n",
       "      <td>United Kingdom</td>\n",
       "      <td>False</td>\n",
       "      <td>3</td>\n",
       "    </tr>\n",
       "    <tr>\n",
       "      <th>3</th>\n",
       "      <td>Male</td>\n",
       "      <td>208</td>\n",
       "      <td>United Kingdom</td>\n",
       "      <td>False</td>\n",
       "      <td>3</td>\n",
       "    </tr>\n",
       "    <tr>\n",
       "      <th>4</th>\n",
       "      <td>Female</td>\n",
       "      <td>136</td>\n",
       "      <td>United Kingdom</td>\n",
       "      <td>False</td>\n",
       "      <td>4</td>\n",
       "    </tr>\n",
       "  </tbody>\n",
       "</table>\n",
       "</div>"
      ],
      "text/plain": [
       "      Sex  Deaths         Country  Cause_substance abuse  Age_Range_encoded\n",
       "0  Female      16  United Kingdom                  False                  2\n",
       "1    Male      16  United Kingdom                  False                  2\n",
       "2  Female     104  United Kingdom                  False                  3\n",
       "3    Male     208  United Kingdom                  False                  3\n",
       "4  Female     136  United Kingdom                  False                  4"
      ]
     },
     "execution_count": 19,
     "metadata": {},
     "output_type": "execute_result"
    }
   ],
   "source": [
    "# Categorical Features: Age_Range\n",
    "\n",
    "Age_Range_mapping = {\n",
    "    '1-4': 0,\n",
    "    '5-9': 1,\n",
    "    '10-14': 2,\n",
    "    '15-19': 3,\n",
    "    '20-24': 4,\n",
    "    '25-29': 5,\n",
    "    '30-34': 6,\n",
    "    '35-39': 7,\n",
    "    '40-44': 8,\n",
    "    '45-49': 9,\n",
    "    '50-54': 10,\n",
    "    '55-59': 11,\n",
    "    '60-64': 12,\n",
    "    '65-69': 13,\n",
    "    '70-74': 14,\n",
    "    '75-79': 15,\n",
    "    '80-84': 16,\n",
    "    '85-89': 17,\n",
    "    '90-94': 18,\n",
    "    '95+': 19\n",
    "}\n",
    "\n",
    "ml_df['Age_Range_encoded'] = df['Age_Range'].map(Age_Range_mapping)\n",
    "ml_df.drop(['Age_Range'], axis = 1, inplace = True)\n",
    "\n",
    "ml_df.head()"
   ]
  },
  {
   "cell_type": "code",
   "execution_count": 20,
   "id": "e066d5c3",
   "metadata": {
    "execution": {
     "iopub.execute_input": "2023-12-19T12:57:24.116724Z",
     "iopub.status.busy": "2023-12-19T12:57:24.116338Z",
     "iopub.status.idle": "2023-12-19T12:57:24.137126Z",
     "shell.execute_reply": "2023-12-19T12:57:24.136194Z"
    },
    "papermill": {
     "duration": 0.036746,
     "end_time": "2023-12-19T12:57:24.139284",
     "exception": false,
     "start_time": "2023-12-19T12:57:24.102538",
     "status": "completed"
    },
    "scrolled": true,
    "tags": []
   },
   "outputs": [
    {
     "data": {
      "text/html": [
       "<div>\n",
       "<style scoped>\n",
       "    .dataframe tbody tr th:only-of-type {\n",
       "        vertical-align: middle;\n",
       "    }\n",
       "\n",
       "    .dataframe tbody tr th {\n",
       "        vertical-align: top;\n",
       "    }\n",
       "\n",
       "    .dataframe thead th {\n",
       "        text-align: right;\n",
       "    }\n",
       "</style>\n",
       "<table border=\"1\" class=\"dataframe\">\n",
       "  <thead>\n",
       "    <tr style=\"text-align: right;\">\n",
       "      <th></th>\n",
       "      <th>Deaths</th>\n",
       "      <th>Country</th>\n",
       "      <th>Cause_substance abuse</th>\n",
       "      <th>Age_Range_encoded</th>\n",
       "      <th>Sex_Female</th>\n",
       "      <th>Sex_Unspecified</th>\n",
       "    </tr>\n",
       "  </thead>\n",
       "  <tbody>\n",
       "    <tr>\n",
       "      <th>0</th>\n",
       "      <td>16</td>\n",
       "      <td>United Kingdom</td>\n",
       "      <td>False</td>\n",
       "      <td>2</td>\n",
       "      <td>True</td>\n",
       "      <td>False</td>\n",
       "    </tr>\n",
       "    <tr>\n",
       "      <th>1</th>\n",
       "      <td>16</td>\n",
       "      <td>United Kingdom</td>\n",
       "      <td>False</td>\n",
       "      <td>2</td>\n",
       "      <td>False</td>\n",
       "      <td>False</td>\n",
       "    </tr>\n",
       "    <tr>\n",
       "      <th>2</th>\n",
       "      <td>104</td>\n",
       "      <td>United Kingdom</td>\n",
       "      <td>False</td>\n",
       "      <td>3</td>\n",
       "      <td>True</td>\n",
       "      <td>False</td>\n",
       "    </tr>\n",
       "    <tr>\n",
       "      <th>3</th>\n",
       "      <td>208</td>\n",
       "      <td>United Kingdom</td>\n",
       "      <td>False</td>\n",
       "      <td>3</td>\n",
       "      <td>False</td>\n",
       "      <td>False</td>\n",
       "    </tr>\n",
       "    <tr>\n",
       "      <th>4</th>\n",
       "      <td>136</td>\n",
       "      <td>United Kingdom</td>\n",
       "      <td>False</td>\n",
       "      <td>4</td>\n",
       "      <td>True</td>\n",
       "      <td>False</td>\n",
       "    </tr>\n",
       "  </tbody>\n",
       "</table>\n",
       "</div>"
      ],
      "text/plain": [
       "   Deaths         Country  Cause_substance abuse  Age_Range_encoded  \\\n",
       "0      16  United Kingdom                  False                  2   \n",
       "1      16  United Kingdom                  False                  2   \n",
       "2     104  United Kingdom                  False                  3   \n",
       "3     208  United Kingdom                  False                  3   \n",
       "4     136  United Kingdom                  False                  4   \n",
       "\n",
       "   Sex_Female  Sex_Unspecified  \n",
       "0        True            False  \n",
       "1       False            False  \n",
       "2        True            False  \n",
       "3       False            False  \n",
       "4        True            False  "
      ]
     },
     "execution_count": 20,
     "metadata": {},
     "output_type": "execute_result"
    }
   ],
   "source": [
    "# Categorical Features: Sex\n",
    "\n",
    "ml_df = convert_dummy(ml_df, 'Sex')\n",
    "ml_df.head()"
   ]
  },
  {
   "cell_type": "code",
   "execution_count": 21,
   "id": "bdbc154f",
   "metadata": {
    "execution": {
     "iopub.execute_input": "2023-12-19T12:57:24.166572Z",
     "iopub.status.busy": "2023-12-19T12:57:24.166153Z",
     "iopub.status.idle": "2023-12-19T12:57:24.222650Z",
     "shell.execute_reply": "2023-12-19T12:57:24.221432Z"
    },
    "papermill": {
     "duration": 0.072951,
     "end_time": "2023-12-19T12:57:24.225221",
     "exception": false,
     "start_time": "2023-12-19T12:57:24.152270",
     "status": "completed"
    },
    "tags": []
   },
   "outputs": [
    {
     "data": {
      "text/html": [
       "<div>\n",
       "<style scoped>\n",
       "    .dataframe tbody tr th:only-of-type {\n",
       "        vertical-align: middle;\n",
       "    }\n",
       "\n",
       "    .dataframe tbody tr th {\n",
       "        vertical-align: top;\n",
       "    }\n",
       "\n",
       "    .dataframe thead th {\n",
       "        text-align: right;\n",
       "    }\n",
       "</style>\n",
       "<table border=\"1\" class=\"dataframe\">\n",
       "  <thead>\n",
       "    <tr style=\"text-align: right;\">\n",
       "      <th></th>\n",
       "      <th>Deaths</th>\n",
       "      <th>Cause_substance abuse</th>\n",
       "      <th>Age_Range_encoded</th>\n",
       "      <th>Sex_Female</th>\n",
       "      <th>Sex_Unspecified</th>\n",
       "      <th>Country_Anguilla</th>\n",
       "      <th>Country_Antigua and Barbuda</th>\n",
       "      <th>Country_Argentina</th>\n",
       "      <th>Country_Armenia</th>\n",
       "      <th>Country_Aruba</th>\n",
       "      <th>...</th>\n",
       "      <th>Country_Tunisia</th>\n",
       "      <th>Country_Turkey</th>\n",
       "      <th>Country_Turks and Caicos Islands</th>\n",
       "      <th>Country_Ukraine</th>\n",
       "      <th>Country_United Arab Emirates</th>\n",
       "      <th>Country_United Kingdom</th>\n",
       "      <th>Country_United States of America</th>\n",
       "      <th>Country_Uruguay</th>\n",
       "      <th>Country_Uzbekistan</th>\n",
       "      <th>Country_Virgin Islands (USA)</th>\n",
       "    </tr>\n",
       "  </thead>\n",
       "  <tbody>\n",
       "    <tr>\n",
       "      <th>0</th>\n",
       "      <td>16</td>\n",
       "      <td>False</td>\n",
       "      <td>2</td>\n",
       "      <td>True</td>\n",
       "      <td>False</td>\n",
       "      <td>False</td>\n",
       "      <td>False</td>\n",
       "      <td>False</td>\n",
       "      <td>False</td>\n",
       "      <td>False</td>\n",
       "      <td>...</td>\n",
       "      <td>False</td>\n",
       "      <td>False</td>\n",
       "      <td>False</td>\n",
       "      <td>False</td>\n",
       "      <td>False</td>\n",
       "      <td>True</td>\n",
       "      <td>False</td>\n",
       "      <td>False</td>\n",
       "      <td>False</td>\n",
       "      <td>False</td>\n",
       "    </tr>\n",
       "    <tr>\n",
       "      <th>1</th>\n",
       "      <td>16</td>\n",
       "      <td>False</td>\n",
       "      <td>2</td>\n",
       "      <td>False</td>\n",
       "      <td>False</td>\n",
       "      <td>False</td>\n",
       "      <td>False</td>\n",
       "      <td>False</td>\n",
       "      <td>False</td>\n",
       "      <td>False</td>\n",
       "      <td>...</td>\n",
       "      <td>False</td>\n",
       "      <td>False</td>\n",
       "      <td>False</td>\n",
       "      <td>False</td>\n",
       "      <td>False</td>\n",
       "      <td>True</td>\n",
       "      <td>False</td>\n",
       "      <td>False</td>\n",
       "      <td>False</td>\n",
       "      <td>False</td>\n",
       "    </tr>\n",
       "    <tr>\n",
       "      <th>2</th>\n",
       "      <td>104</td>\n",
       "      <td>False</td>\n",
       "      <td>3</td>\n",
       "      <td>True</td>\n",
       "      <td>False</td>\n",
       "      <td>False</td>\n",
       "      <td>False</td>\n",
       "      <td>False</td>\n",
       "      <td>False</td>\n",
       "      <td>False</td>\n",
       "      <td>...</td>\n",
       "      <td>False</td>\n",
       "      <td>False</td>\n",
       "      <td>False</td>\n",
       "      <td>False</td>\n",
       "      <td>False</td>\n",
       "      <td>True</td>\n",
       "      <td>False</td>\n",
       "      <td>False</td>\n",
       "      <td>False</td>\n",
       "      <td>False</td>\n",
       "    </tr>\n",
       "    <tr>\n",
       "      <th>3</th>\n",
       "      <td>208</td>\n",
       "      <td>False</td>\n",
       "      <td>3</td>\n",
       "      <td>False</td>\n",
       "      <td>False</td>\n",
       "      <td>False</td>\n",
       "      <td>False</td>\n",
       "      <td>False</td>\n",
       "      <td>False</td>\n",
       "      <td>False</td>\n",
       "      <td>...</td>\n",
       "      <td>False</td>\n",
       "      <td>False</td>\n",
       "      <td>False</td>\n",
       "      <td>False</td>\n",
       "      <td>False</td>\n",
       "      <td>True</td>\n",
       "      <td>False</td>\n",
       "      <td>False</td>\n",
       "      <td>False</td>\n",
       "      <td>False</td>\n",
       "    </tr>\n",
       "    <tr>\n",
       "      <th>4</th>\n",
       "      <td>136</td>\n",
       "      <td>False</td>\n",
       "      <td>4</td>\n",
       "      <td>True</td>\n",
       "      <td>False</td>\n",
       "      <td>False</td>\n",
       "      <td>False</td>\n",
       "      <td>False</td>\n",
       "      <td>False</td>\n",
       "      <td>False</td>\n",
       "      <td>...</td>\n",
       "      <td>False</td>\n",
       "      <td>False</td>\n",
       "      <td>False</td>\n",
       "      <td>False</td>\n",
       "      <td>False</td>\n",
       "      <td>True</td>\n",
       "      <td>False</td>\n",
       "      <td>False</td>\n",
       "      <td>False</td>\n",
       "      <td>False</td>\n",
       "    </tr>\n",
       "  </tbody>\n",
       "</table>\n",
       "<p>5 rows × 106 columns</p>\n",
       "</div>"
      ],
      "text/plain": [
       "   Deaths  Cause_substance abuse  Age_Range_encoded  Sex_Female  \\\n",
       "0      16                  False                  2        True   \n",
       "1      16                  False                  2       False   \n",
       "2     104                  False                  3        True   \n",
       "3     208                  False                  3       False   \n",
       "4     136                  False                  4        True   \n",
       "\n",
       "   Sex_Unspecified  Country_Anguilla  Country_Antigua and Barbuda  \\\n",
       "0            False             False                        False   \n",
       "1            False             False                        False   \n",
       "2            False             False                        False   \n",
       "3            False             False                        False   \n",
       "4            False             False                        False   \n",
       "\n",
       "   Country_Argentina  Country_Armenia  Country_Aruba  ...  Country_Tunisia  \\\n",
       "0              False            False          False  ...            False   \n",
       "1              False            False          False  ...            False   \n",
       "2              False            False          False  ...            False   \n",
       "3              False            False          False  ...            False   \n",
       "4              False            False          False  ...            False   \n",
       "\n",
       "   Country_Turkey  Country_Turks and Caicos Islands  Country_Ukraine  \\\n",
       "0           False                             False            False   \n",
       "1           False                             False            False   \n",
       "2           False                             False            False   \n",
       "3           False                             False            False   \n",
       "4           False                             False            False   \n",
       "\n",
       "   Country_United Arab Emirates  Country_United Kingdom  \\\n",
       "0                         False                    True   \n",
       "1                         False                    True   \n",
       "2                         False                    True   \n",
       "3                         False                    True   \n",
       "4                         False                    True   \n",
       "\n",
       "   Country_United States of America  Country_Uruguay  Country_Uzbekistan  \\\n",
       "0                             False            False               False   \n",
       "1                             False            False               False   \n",
       "2                             False            False               False   \n",
       "3                             False            False               False   \n",
       "4                             False            False               False   \n",
       "\n",
       "   Country_Virgin Islands (USA)  \n",
       "0                         False  \n",
       "1                         False  \n",
       "2                         False  \n",
       "3                         False  \n",
       "4                         False  \n",
       "\n",
       "[5 rows x 106 columns]"
      ]
     },
     "execution_count": 21,
     "metadata": {},
     "output_type": "execute_result"
    }
   ],
   "source": [
    "# Categorical Features: Country\n",
    "\n",
    "ml_df = convert_dummy(ml_df, 'Country')\n",
    "ml_df.head()"
   ]
  },
  {
   "cell_type": "code",
   "execution_count": 22,
   "id": "3d61ac1f",
   "metadata": {
    "execution": {
     "iopub.execute_input": "2023-12-19T12:57:24.253364Z",
     "iopub.status.busy": "2023-12-19T12:57:24.252975Z",
     "iopub.status.idle": "2023-12-19T12:57:24.261542Z",
     "shell.execute_reply": "2023-12-19T12:57:24.259647Z"
    },
    "papermill": {
     "duration": 0.026078,
     "end_time": "2023-12-19T12:57:24.264321",
     "exception": false,
     "start_time": "2023-12-19T12:57:24.238243",
     "status": "completed"
    },
    "tags": []
   },
   "outputs": [],
   "source": [
    "# Feature column X and target column Y\n",
    "\n",
    "y = ml_df['Deaths']\n",
    "X = ml_df.drop(['Deaths'], axis = 1)"
   ]
  },
  {
   "cell_type": "code",
   "execution_count": 23,
   "id": "74506080",
   "metadata": {
    "execution": {
     "iopub.execute_input": "2023-12-19T12:57:24.294075Z",
     "iopub.status.busy": "2023-12-19T12:57:24.293667Z",
     "iopub.status.idle": "2023-12-19T12:57:24.330325Z",
     "shell.execute_reply": "2023-12-19T12:57:24.328774Z"
    },
    "papermill": {
     "duration": 0.05478,
     "end_time": "2023-12-19T12:57:24.333390",
     "exception": false,
     "start_time": "2023-12-19T12:57:24.278610",
     "status": "completed"
    },
    "tags": []
   },
   "outputs": [],
   "source": [
    "# Create test set and training set\n",
    "\n",
    "from sklearn.model_selection import train_test_split\n",
    "\n",
    "X_train, X_test, y_train, y_test = train_test_split(X, y, test_size = 0.2, random_state = 42)\n",
    "np.random.seed(42)"
   ]
  },
  {
   "cell_type": "code",
   "execution_count": 24,
   "id": "271bb70f",
   "metadata": {
    "execution": {
     "iopub.execute_input": "2023-12-19T12:57:24.362382Z",
     "iopub.status.busy": "2023-12-19T12:57:24.361951Z",
     "iopub.status.idle": "2023-12-19T12:57:24.510812Z",
     "shell.execute_reply": "2023-12-19T12:57:24.509145Z"
    },
    "papermill": {
     "duration": 0.166573,
     "end_time": "2023-12-19T12:57:24.514055",
     "exception": false,
     "start_time": "2023-12-19T12:57:24.347482",
     "status": "completed"
    },
    "tags": []
   },
   "outputs": [],
   "source": [
    "# Standard Scaler\n",
    "\n",
    "from sklearn.preprocessing import StandardScaler\n",
    "\n",
    "X_train_scaled = StandardScaler().fit_transform(X_train)\n",
    "X_test_scaled = StandardScaler().fit_transform(X_test)"
   ]
  },
  {
   "cell_type": "markdown",
   "id": "68e0cb13",
   "metadata": {
    "papermill": {
     "duration": 0.015481,
     "end_time": "2023-12-19T12:57:24.544728",
     "exception": false,
     "start_time": "2023-12-19T12:57:24.529247",
     "status": "completed"
    },
    "tags": []
   },
   "source": [
    "## Linear Regression"
   ]
  },
  {
   "cell_type": "code",
   "execution_count": 25,
   "id": "fc0e5d5d",
   "metadata": {
    "execution": {
     "iopub.execute_input": "2023-12-19T12:57:24.576521Z",
     "iopub.status.busy": "2023-12-19T12:57:24.574753Z",
     "iopub.status.idle": "2023-12-19T12:57:24.888167Z",
     "shell.execute_reply": "2023-12-19T12:57:24.886387Z"
    },
    "papermill": {
     "duration": 0.332548,
     "end_time": "2023-12-19T12:57:24.891632",
     "exception": false,
     "start_time": "2023-12-19T12:57:24.559084",
     "status": "completed"
    },
    "scrolled": true,
    "tags": []
   },
   "outputs": [
    {
     "data": {
      "text/html": [
       "<div>\n",
       "<style scoped>\n",
       "    .dataframe tbody tr th:only-of-type {\n",
       "        vertical-align: middle;\n",
       "    }\n",
       "\n",
       "    .dataframe tbody tr th {\n",
       "        vertical-align: top;\n",
       "    }\n",
       "\n",
       "    .dataframe thead th {\n",
       "        text-align: right;\n",
       "    }\n",
       "</style>\n",
       "<table border=\"1\" class=\"dataframe\">\n",
       "  <thead>\n",
       "    <tr style=\"text-align: right;\">\n",
       "      <th></th>\n",
       "      <th>Model</th>\n",
       "      <th>MSE</th>\n",
       "      <th>RMSE</th>\n",
       "      <th>MAE</th>\n",
       "      <th>R-squared</th>\n",
       "    </tr>\n",
       "  </thead>\n",
       "  <tbody>\n",
       "    <tr>\n",
       "      <th>0</th>\n",
       "      <td>Linear Regression</td>\n",
       "      <td>24752.538433</td>\n",
       "      <td>157.329395</td>\n",
       "      <td>62.494251</td>\n",
       "      <td>0.350192</td>\n",
       "    </tr>\n",
       "  </tbody>\n",
       "</table>\n",
       "</div>"
      ],
      "text/plain": [
       "               Model           MSE        RMSE        MAE  R-squared\n",
       "0  Linear Regression  24752.538433  157.329395  62.494251   0.350192"
      ]
     },
     "execution_count": 25,
     "metadata": {},
     "output_type": "execute_result"
    }
   ],
   "source": [
    "from sklearn.linear_model import LinearRegression\n",
    "\n",
    "model = LinearRegression()\n",
    "model.fit(X_train_scaled, y_train)\n",
    "y_pred = model.predict(X_test_scaled)\n",
    "\n",
    "results = get_indicators('Linear Regression', y_test, y_pred)\n",
    "\n",
    "EItable.loc[len(EItable)] = results\n",
    "EItable"
   ]
  },
  {
   "cell_type": "markdown",
   "id": "cf4d0d91",
   "metadata": {
    "papermill": {
     "duration": 0.034195,
     "end_time": "2023-12-19T12:57:24.992208",
     "exception": false,
     "start_time": "2023-12-19T12:57:24.958013",
     "status": "completed"
    },
    "tags": []
   },
   "source": [
    "## Decision Tree"
   ]
  },
  {
   "cell_type": "code",
   "execution_count": 26,
   "id": "6818c890",
   "metadata": {
    "execution": {
     "iopub.execute_input": "2023-12-19T12:57:25.021613Z",
     "iopub.status.busy": "2023-12-19T12:57:25.021195Z",
     "iopub.status.idle": "2023-12-19T12:57:25.495698Z",
     "shell.execute_reply": "2023-12-19T12:57:25.494128Z"
    },
    "papermill": {
     "duration": 0.494856,
     "end_time": "2023-12-19T12:57:25.501261",
     "exception": false,
     "start_time": "2023-12-19T12:57:25.006405",
     "status": "completed"
    },
    "tags": []
   },
   "outputs": [
    {
     "data": {
      "text/html": [
       "<div>\n",
       "<style scoped>\n",
       "    .dataframe tbody tr th:only-of-type {\n",
       "        vertical-align: middle;\n",
       "    }\n",
       "\n",
       "    .dataframe tbody tr th {\n",
       "        vertical-align: top;\n",
       "    }\n",
       "\n",
       "    .dataframe thead th {\n",
       "        text-align: right;\n",
       "    }\n",
       "</style>\n",
       "<table border=\"1\" class=\"dataframe\">\n",
       "  <thead>\n",
       "    <tr style=\"text-align: right;\">\n",
       "      <th></th>\n",
       "      <th>Model</th>\n",
       "      <th>MSE</th>\n",
       "      <th>RMSE</th>\n",
       "      <th>MAE</th>\n",
       "      <th>R-squared</th>\n",
       "    </tr>\n",
       "  </thead>\n",
       "  <tbody>\n",
       "    <tr>\n",
       "      <th>0</th>\n",
       "      <td>Linear Regression</td>\n",
       "      <td>24752.538433</td>\n",
       "      <td>157.329395</td>\n",
       "      <td>62.494251</td>\n",
       "      <td>0.350192</td>\n",
       "    </tr>\n",
       "    <tr>\n",
       "      <th>1</th>\n",
       "      <td>Decision Tree</td>\n",
       "      <td>3228.505246</td>\n",
       "      <td>56.819937</td>\n",
       "      <td>11.727780</td>\n",
       "      <td>0.915245</td>\n",
       "    </tr>\n",
       "  </tbody>\n",
       "</table>\n",
       "</div>"
      ],
      "text/plain": [
       "               Model           MSE        RMSE        MAE  R-squared\n",
       "0  Linear Regression  24752.538433  157.329395  62.494251   0.350192\n",
       "1      Decision Tree   3228.505246   56.819937  11.727780   0.915245"
      ]
     },
     "execution_count": 26,
     "metadata": {},
     "output_type": "execute_result"
    }
   ],
   "source": [
    "from sklearn.tree import DecisionTreeRegressor\n",
    "\n",
    "model = DecisionTreeRegressor()\n",
    "model.fit(X_train_scaled, y_train)\n",
    "y_pred = model.predict(X_test_scaled)\n",
    "\n",
    "results = get_indicators('Decision Tree', y_test, y_pred)\n",
    "\n",
    "EItable.loc[len(EItable)] = results\n",
    "EItable"
   ]
  },
  {
   "cell_type": "markdown",
   "id": "f988595e",
   "metadata": {
    "papermill": {
     "duration": 0.01436,
     "end_time": "2023-12-19T12:57:25.532160",
     "exception": false,
     "start_time": "2023-12-19T12:57:25.517800",
     "status": "completed"
    },
    "tags": []
   },
   "source": [
    "## Random Forest"
   ]
  },
  {
   "cell_type": "code",
   "execution_count": 27,
   "id": "5128f5e2",
   "metadata": {
    "execution": {
     "iopub.execute_input": "2023-12-19T12:57:25.561443Z",
     "iopub.status.busy": "2023-12-19T12:57:25.561014Z",
     "iopub.status.idle": "2023-12-19T12:57:47.107584Z",
     "shell.execute_reply": "2023-12-19T12:57:47.106217Z"
    },
    "papermill": {
     "duration": 21.564553,
     "end_time": "2023-12-19T12:57:47.110244",
     "exception": false,
     "start_time": "2023-12-19T12:57:25.545691",
     "status": "completed"
    },
    "tags": []
   },
   "outputs": [
    {
     "data": {
      "text/html": [
       "<div>\n",
       "<style scoped>\n",
       "    .dataframe tbody tr th:only-of-type {\n",
       "        vertical-align: middle;\n",
       "    }\n",
       "\n",
       "    .dataframe tbody tr th {\n",
       "        vertical-align: top;\n",
       "    }\n",
       "\n",
       "    .dataframe thead th {\n",
       "        text-align: right;\n",
       "    }\n",
       "</style>\n",
       "<table border=\"1\" class=\"dataframe\">\n",
       "  <thead>\n",
       "    <tr style=\"text-align: right;\">\n",
       "      <th></th>\n",
       "      <th>Model</th>\n",
       "      <th>MSE</th>\n",
       "      <th>RMSE</th>\n",
       "      <th>MAE</th>\n",
       "      <th>R-squared</th>\n",
       "    </tr>\n",
       "  </thead>\n",
       "  <tbody>\n",
       "    <tr>\n",
       "      <th>0</th>\n",
       "      <td>Linear Regression</td>\n",
       "      <td>24752.538433</td>\n",
       "      <td>157.329395</td>\n",
       "      <td>62.494251</td>\n",
       "      <td>0.350192</td>\n",
       "    </tr>\n",
       "    <tr>\n",
       "      <th>1</th>\n",
       "      <td>Decision Tree</td>\n",
       "      <td>3228.505246</td>\n",
       "      <td>56.819937</td>\n",
       "      <td>11.727780</td>\n",
       "      <td>0.915245</td>\n",
       "    </tr>\n",
       "    <tr>\n",
       "      <th>2</th>\n",
       "      <td>Random Forest</td>\n",
       "      <td>4474.822048</td>\n",
       "      <td>66.894111</td>\n",
       "      <td>24.702988</td>\n",
       "      <td>0.882526</td>\n",
       "    </tr>\n",
       "  </tbody>\n",
       "</table>\n",
       "</div>"
      ],
      "text/plain": [
       "               Model           MSE        RMSE        MAE  R-squared\n",
       "0  Linear Regression  24752.538433  157.329395  62.494251   0.350192\n",
       "1      Decision Tree   3228.505246   56.819937  11.727780   0.915245\n",
       "2      Random Forest   4474.822048   66.894111  24.702988   0.882526"
      ]
     },
     "execution_count": 27,
     "metadata": {},
     "output_type": "execute_result"
    }
   ],
   "source": [
    "from sklearn.ensemble import RandomForestRegressor\n",
    "\n",
    "model = RandomForestRegressor()\n",
    "model.fit(X_train_scaled, y_train)\n",
    "y_pred = model.predict(X_test_scaled)\n",
    "\n",
    "results = get_indicators('Random Forest', y_test, y_pred)\n",
    "\n",
    "EItable.loc[len(EItable)] = results\n",
    "EItable"
   ]
  },
  {
   "cell_type": "markdown",
   "id": "c9189479",
   "metadata": {
    "papermill": {
     "duration": 0.014134,
     "end_time": "2023-12-19T12:57:47.138521",
     "exception": false,
     "start_time": "2023-12-19T12:57:47.124387",
     "status": "completed"
    },
    "tags": []
   },
   "source": [
    "## KNN"
   ]
  },
  {
   "cell_type": "code",
   "execution_count": 28,
   "id": "250d0029",
   "metadata": {
    "execution": {
     "iopub.execute_input": "2023-12-19T12:57:47.168924Z",
     "iopub.status.busy": "2023-12-19T12:57:47.168121Z",
     "iopub.status.idle": "2023-12-19T12:57:47.672327Z",
     "shell.execute_reply": "2023-12-19T12:57:47.670890Z"
    },
    "papermill": {
     "duration": 0.522497,
     "end_time": "2023-12-19T12:57:47.674963",
     "exception": false,
     "start_time": "2023-12-19T12:57:47.152466",
     "status": "completed"
    },
    "tags": []
   },
   "outputs": [
    {
     "data": {
      "text/html": [
       "<div>\n",
       "<style scoped>\n",
       "    .dataframe tbody tr th:only-of-type {\n",
       "        vertical-align: middle;\n",
       "    }\n",
       "\n",
       "    .dataframe tbody tr th {\n",
       "        vertical-align: top;\n",
       "    }\n",
       "\n",
       "    .dataframe thead th {\n",
       "        text-align: right;\n",
       "    }\n",
       "</style>\n",
       "<table border=\"1\" class=\"dataframe\">\n",
       "  <thead>\n",
       "    <tr style=\"text-align: right;\">\n",
       "      <th></th>\n",
       "      <th>Model</th>\n",
       "      <th>MSE</th>\n",
       "      <th>RMSE</th>\n",
       "      <th>MAE</th>\n",
       "      <th>R-squared</th>\n",
       "    </tr>\n",
       "  </thead>\n",
       "  <tbody>\n",
       "    <tr>\n",
       "      <th>0</th>\n",
       "      <td>Linear Regression</td>\n",
       "      <td>24752.538433</td>\n",
       "      <td>157.329395</td>\n",
       "      <td>62.494251</td>\n",
       "      <td>0.350192</td>\n",
       "    </tr>\n",
       "    <tr>\n",
       "      <th>1</th>\n",
       "      <td>Decision Tree</td>\n",
       "      <td>3228.505246</td>\n",
       "      <td>56.819937</td>\n",
       "      <td>11.727780</td>\n",
       "      <td>0.915245</td>\n",
       "    </tr>\n",
       "    <tr>\n",
       "      <th>2</th>\n",
       "      <td>Random Forest</td>\n",
       "      <td>4474.822048</td>\n",
       "      <td>66.894111</td>\n",
       "      <td>24.702988</td>\n",
       "      <td>0.882526</td>\n",
       "    </tr>\n",
       "    <tr>\n",
       "      <th>3</th>\n",
       "      <td>KNN</td>\n",
       "      <td>1027.874919</td>\n",
       "      <td>32.060488</td>\n",
       "      <td>7.068502</td>\n",
       "      <td>0.973016</td>\n",
       "    </tr>\n",
       "  </tbody>\n",
       "</table>\n",
       "</div>"
      ],
      "text/plain": [
       "               Model           MSE        RMSE        MAE  R-squared\n",
       "0  Linear Regression  24752.538433  157.329395  62.494251   0.350192\n",
       "1      Decision Tree   3228.505246   56.819937  11.727780   0.915245\n",
       "2      Random Forest   4474.822048   66.894111  24.702988   0.882526\n",
       "3                KNN   1027.874919   32.060488   7.068502   0.973016"
      ]
     },
     "execution_count": 28,
     "metadata": {},
     "output_type": "execute_result"
    }
   ],
   "source": [
    "from sklearn.neighbors import KNeighborsRegressor\n",
    "\n",
    "model = KNeighborsRegressor(n_neighbors = 2)\n",
    "model.fit(X_train_scaled, y_train)\n",
    "y_pred = model.predict(X_test_scaled)\n",
    "\n",
    "results = get_indicators('KNN', y_test, y_pred)\n",
    "\n",
    "EItable.loc[len(EItable)] = results\n",
    "EItable"
   ]
  },
  {
   "cell_type": "markdown",
   "id": "97efae66",
   "metadata": {
    "papermill": {
     "duration": 0.013821,
     "end_time": "2023-12-19T12:57:47.704014",
     "exception": false,
     "start_time": "2023-12-19T12:57:47.690193",
     "status": "completed"
    },
    "tags": []
   },
   "source": [
    "## Model Optimization: Decision Tree"
   ]
  },
  {
   "cell_type": "code",
   "execution_count": 29,
   "id": "e2ceccf2",
   "metadata": {
    "execution": {
     "iopub.execute_input": "2023-12-19T12:57:47.733896Z",
     "iopub.status.busy": "2023-12-19T12:57:47.732771Z",
     "iopub.status.idle": "2023-12-19T12:58:12.133490Z",
     "shell.execute_reply": "2023-12-19T12:58:12.131546Z"
    },
    "papermill": {
     "duration": 24.418533,
     "end_time": "2023-12-19T12:58:12.136215",
     "exception": false,
     "start_time": "2023-12-19T12:57:47.717682",
     "status": "completed"
    },
    "tags": []
   },
   "outputs": [
    {
     "name": "stdout",
     "output_type": "stream",
     "text": [
      "Best Parameters for Decision Tree: {'max_depth': None, 'min_samples_leaf': 2, 'min_samples_split': 2}\n"
     ]
    },
    {
     "data": {
      "text/html": [
       "<div>\n",
       "<style scoped>\n",
       "    .dataframe tbody tr th:only-of-type {\n",
       "        vertical-align: middle;\n",
       "    }\n",
       "\n",
       "    .dataframe tbody tr th {\n",
       "        vertical-align: top;\n",
       "    }\n",
       "\n",
       "    .dataframe thead th {\n",
       "        text-align: right;\n",
       "    }\n",
       "</style>\n",
       "<table border=\"1\" class=\"dataframe\">\n",
       "  <thead>\n",
       "    <tr style=\"text-align: right;\">\n",
       "      <th></th>\n",
       "      <th>Model</th>\n",
       "      <th>MSE</th>\n",
       "      <th>RMSE</th>\n",
       "      <th>MAE</th>\n",
       "      <th>R-squared</th>\n",
       "    </tr>\n",
       "  </thead>\n",
       "  <tbody>\n",
       "    <tr>\n",
       "      <th>0</th>\n",
       "      <td>Linear Regression</td>\n",
       "      <td>24752.538433</td>\n",
       "      <td>157.329395</td>\n",
       "      <td>62.494251</td>\n",
       "      <td>0.350192</td>\n",
       "    </tr>\n",
       "    <tr>\n",
       "      <th>1</th>\n",
       "      <td>Decision Tree</td>\n",
       "      <td>3228.505246</td>\n",
       "      <td>56.819937</td>\n",
       "      <td>11.727780</td>\n",
       "      <td>0.915245</td>\n",
       "    </tr>\n",
       "    <tr>\n",
       "      <th>2</th>\n",
       "      <td>Random Forest</td>\n",
       "      <td>4474.822048</td>\n",
       "      <td>66.894111</td>\n",
       "      <td>24.702988</td>\n",
       "      <td>0.882526</td>\n",
       "    </tr>\n",
       "    <tr>\n",
       "      <th>3</th>\n",
       "      <td>KNN</td>\n",
       "      <td>1027.874919</td>\n",
       "      <td>32.060488</td>\n",
       "      <td>7.068502</td>\n",
       "      <td>0.973016</td>\n",
       "    </tr>\n",
       "    <tr>\n",
       "      <th>4</th>\n",
       "      <td>Decision Tree_op</td>\n",
       "      <td>1557.898715</td>\n",
       "      <td>39.470226</td>\n",
       "      <td>9.915573</td>\n",
       "      <td>0.959102</td>\n",
       "    </tr>\n",
       "  </tbody>\n",
       "</table>\n",
       "</div>"
      ],
      "text/plain": [
       "               Model           MSE        RMSE        MAE  R-squared\n",
       "0  Linear Regression  24752.538433  157.329395  62.494251   0.350192\n",
       "1      Decision Tree   3228.505246   56.819937  11.727780   0.915245\n",
       "2      Random Forest   4474.822048   66.894111  24.702988   0.882526\n",
       "3                KNN   1027.874919   32.060488   7.068502   0.973016\n",
       "4   Decision Tree_op   1557.898715   39.470226   9.915573   0.959102"
      ]
     },
     "execution_count": 29,
     "metadata": {},
     "output_type": "execute_result"
    }
   ],
   "source": [
    "from sklearn.model_selection import GridSearchCV\n",
    "\n",
    "model_optree = DecisionTreeRegressor()\n",
    "\n",
    "param_grid = {\n",
    "    'max_depth': [None, 5, 10 ,15],\n",
    "    'min_samples_split': [2 ,5, 10],\n",
    "    'min_samples_leaf': [1, 2, 4]\n",
    "}\n",
    "\n",
    "grid_search = GridSearchCV(model_optree, param_grid, cv = 5, scoring ='neg_mean_squared_error')\n",
    "grid_search.fit(X_train_scaled, y_train)\n",
    "\n",
    "best_model_optree = grid_search.best_estimator_\n",
    "\n",
    "print(\"Best Parameters for Decision Tree:\", grid_search.best_params_)\n",
    "\n",
    "y_pred_optree = best_model_optree.predict(X_test_scaled)\n",
    "\n",
    "results = get_indicators('Decision Tree_op', y_test, y_pred_optree)\n",
    "\n",
    "EItable.loc[len(EItable)] = results\n",
    "EItable"
   ]
  },
  {
   "cell_type": "code",
   "execution_count": 30,
   "id": "39de4c1c",
   "metadata": {
    "execution": {
     "iopub.execute_input": "2023-12-19T12:58:12.171145Z",
     "iopub.status.busy": "2023-12-19T12:58:12.170080Z",
     "iopub.status.idle": "2023-12-19T12:58:12.180389Z",
     "shell.execute_reply": "2023-12-19T12:58:12.178506Z"
    },
    "papermill": {
     "duration": 0.031722,
     "end_time": "2023-12-19T12:58:12.183631",
     "exception": false,
     "start_time": "2023-12-19T12:58:12.151909",
     "status": "completed"
    },
    "tags": []
   },
   "outputs": [
    {
     "name": "stdout",
     "output_type": "stream",
     "text": [
      "Age_Range_encoded: 0.31483888022551726\n",
      "Country_United States of America: 0.2501803052926553\n",
      "Cause_substance abuse: 0.12923401637982015\n",
      "Sex_Female: 0.11808404712360947\n",
      "Country_Russian Federation: 0.02301035766506161\n",
      "Country_Japan: 0.018898305897378575\n",
      "Country_Germany: 0.013522476449165325\n",
      "Country_Republic of Korea: 0.011128491773417487\n",
      "Country_Belarus: 0.009456537438186212\n",
      "Country_Tajikistan: 0.008900965761797606\n",
      "Sex_Unspecified: 0.008258769083252243\n",
      "Country_United Kingdom: 0.007007624039066909\n",
      "Country_Malta: 0.006845823591132595\n",
      "Country_Ukraine: 0.004594370290318144\n",
      "Country_Poland: 0.004462885669548978\n",
      "Country_Ireland: 0.0042730681915252155\n",
      "Country_Mexico: 0.003999180536453221\n",
      "Country_Virgin Islands (USA): 0.0038727823497420296\n",
      "Country_Puerto Rico: 0.003827354704734912\n",
      "Country_Thailand: 0.0033314295592297236\n",
      "Country_France: 0.0032982706518110156\n",
      "Country_Bermuda: 0.002733583429697475\n",
      "Country_Hong Kong SAR: 0.002526601656870517\n",
      "Country_Libyan Arab Jamahiriya: 0.0025248728610325743\n",
      "Country_Rodrigues: 0.0021161126118271405\n",
      "Country_Spain: 0.002069961720339937\n",
      "Country_Canada: 0.001985743416105695\n",
      "Country_Italy: 0.001690888996023796\n",
      "Country_Australia: 0.0016778189937582295\n",
      "Country_Hungary: 0.0015184110954620342\n",
      "Country_Colombia: 0.0013005315560955441\n",
      "Country_Kazakhstan: 0.0011985196172078828\n",
      "Country_Turkey: 0.0011980759304057495\n",
      "Country_Philippines: 0.0011761621485892543\n",
      "Country_Solomon Islands: 0.0011196093886170488\n",
      "Country_Sweden: 0.00103043347738698\n",
      "Country_Anguilla: 0.0009252811145904643\n",
      "Country_South Africa: 0.0008230332379509336\n",
      "Country_Dominican Republic: 0.0007926631363353825\n",
      "Country_Cuba: 0.0007772359415600027\n",
      "Country_El Salvador: 0.0007518523070038705\n",
      "Country_Occupied Palestinian Territory: 0.0007422343312425484\n",
      "Country_Brunei Darussalam: 0.0007411806908879835\n",
      "Country_Republic of Moldova: 0.0007238385647695708\n",
      "Country_Austria: 0.0006510501166543762\n",
      "Country_Saint Vincent and Grenadines: 0.0006442250878576679\n",
      "Country_Netherlands: 0.0006271495094142699\n",
      "Country_Belgium: 0.0005948476573719014\n",
      "Country_Argentina: 0.0005857289132608042\n",
      "Country_Czech Republic: 0.0005681272025719125\n",
      "Country_Romania: 0.0005558297211339088\n",
      "Country_Uzbekistan: 0.000551966495982843\n",
      "Country_Portugal: 0.0005090623982433366\n",
      "Country_Croatia: 0.000502986851831868\n",
      "Country_Chile: 0.00044918900141617627\n",
      "Country_Dominica: 0.00044099027816425757\n",
      "Country_Ecuador: 0.00042866866126217874\n",
      "Country_Switzerland: 0.0004194502092473484\n",
      "Country_Guatemala: 0.00038058069578513225\n",
      "Country_Finland: 0.0003563328778490002\n",
      "Country_Denmark: 0.0003374964987834997\n",
      "Country_Serbia: 0.0003232150053570167\n",
      "Country_Slovakia: 0.00030674735205185296\n",
      "Country_Uruguay: 0.0003046434801923047\n",
      "Country_Paraguay: 0.00029528854927423384\n",
      "Country_Slovenia: 0.00028600049845896113\n",
      "Country_Nicaragua: 0.00027863991550499176\n",
      "Country_Tunisia: 0.00026557911250384814\n",
      "Country_Kyrgyzstan: 0.00023752458407819472\n",
      "Country_Georgia: 0.00023179997270585424\n",
      "Country_Bulgaria: 0.00023042637418199555\n",
      "Country_Lithuania: 0.00022396965075203567\n",
      "Country_Kuwait: 0.00022190079224646225\n",
      "Country_Greece: 0.00021904069803952163\n",
      "Country_Peru: 0.00020754322272418003\n",
      "Country_Israel: 0.0002054495142387485\n",
      "Country_Montenegro: 0.00020424789827925804\n",
      "Country_United Arab Emirates: 0.00019890125418563085\n",
      "Country_Guyana: 0.00018819075360779046\n",
      "Country_Bosnia and Herzegovina: 0.00018759677868907906\n",
      "Country_Mongolia: 0.00018296034296067375\n",
      "Country_Latvia: 0.00018124389965157994\n",
      "Country_Panama: 0.00017861426511234157\n",
      "Country_Mauritius: 0.00017711635734404425\n",
      "Country_Costa Rica: 0.00017566936342027682\n",
      "Country_Aruba: 0.00017493962194525323\n",
      "Country_Armenia: 0.00017236036530297337\n",
      "Country_Malaysia: 0.00017209346759447026\n",
      "Country_Cyprus: 0.0001695084618407764\n",
      "Country_North Macedonia: 0.0001655137659620747\n",
      "Country_Estonia: 0.00016434456127888616\n",
      "Country_Saint Lucia: 0.00016315438143110655\n",
      "Country_Egypt: 0.00015865178508758297\n",
      "Country_Oman: 0.0001577966324774835\n",
      "Country_Iceland: 0.00015354183533201389\n",
      "Country_Lebanon: 0.0001529347183756863\n",
      "Country_Luxembourg: 0.0001519656346774586\n",
      "Country_Grenada: 0.00014876050775054355\n",
      "Country_Singapore: 0.00012829797234484915\n",
      "Country_Jordan: 0.00011952667484397933\n",
      "Country_Qatar: 0.00011929101639418544\n",
      "Country_Maldives: 0.00011176946365638937\n",
      "Country_Turks and Caicos Islands: 8.530572328114254e-05\n",
      "Country_Antigua and Barbuda: 4.366270084719713e-05\n",
      "Country_Seychelles: 0.0\n"
     ]
    }
   ],
   "source": [
    "feature_importances = best_model_optree.feature_importances_\n",
    "feature_importance_dict = dict(zip(X.columns, feature_importances))\n",
    "sorted_feature_importance = sorted(feature_importance_dict.items(), key = lambda x: x[1], reverse = True)\n",
    "\n",
    "for feature, importance in sorted_feature_importance:\n",
    "    print(f\"{feature}: {importance}\")"
   ]
  },
  {
   "cell_type": "markdown",
   "id": "c1f80331",
   "metadata": {
    "papermill": {
     "duration": 0.014772,
     "end_time": "2023-12-19T12:58:12.213937",
     "exception": false,
     "start_time": "2023-12-19T12:58:12.199165",
     "status": "completed"
    },
    "tags": []
   },
   "source": [
    "## Model Optimization: KNN"
   ]
  },
  {
   "cell_type": "code",
   "execution_count": 31,
   "id": "28ac865c",
   "metadata": {
    "execution": {
     "iopub.execute_input": "2023-12-19T12:58:12.244770Z",
     "iopub.status.busy": "2023-12-19T12:58:12.244385Z",
     "iopub.status.idle": "2023-12-19T12:58:23.910172Z",
     "shell.execute_reply": "2023-12-19T12:58:23.908748Z"
    },
    "papermill": {
     "duration": 11.684677,
     "end_time": "2023-12-19T12:58:23.913387",
     "exception": false,
     "start_time": "2023-12-19T12:58:12.228710",
     "status": "completed"
    },
    "tags": []
   },
   "outputs": [
    {
     "name": "stdout",
     "output_type": "stream",
     "text": [
      "Best Parameters for Random KNN: {'kneighborsregressor__n_neighbors': 3, 'kneighborsregressor__weights': 'distance'}\n"
     ]
    },
    {
     "data": {
      "text/html": [
       "<div>\n",
       "<style scoped>\n",
       "    .dataframe tbody tr th:only-of-type {\n",
       "        vertical-align: middle;\n",
       "    }\n",
       "\n",
       "    .dataframe tbody tr th {\n",
       "        vertical-align: top;\n",
       "    }\n",
       "\n",
       "    .dataframe thead th {\n",
       "        text-align: right;\n",
       "    }\n",
       "</style>\n",
       "<table border=\"1\" class=\"dataframe\">\n",
       "  <thead>\n",
       "    <tr style=\"text-align: right;\">\n",
       "      <th></th>\n",
       "      <th>Model</th>\n",
       "      <th>MSE</th>\n",
       "      <th>RMSE</th>\n",
       "      <th>MAE</th>\n",
       "      <th>R-squared</th>\n",
       "    </tr>\n",
       "  </thead>\n",
       "  <tbody>\n",
       "    <tr>\n",
       "      <th>0</th>\n",
       "      <td>Linear Regression</td>\n",
       "      <td>24752.538433</td>\n",
       "      <td>157.329395</td>\n",
       "      <td>62.494251</td>\n",
       "      <td>0.350192</td>\n",
       "    </tr>\n",
       "    <tr>\n",
       "      <th>1</th>\n",
       "      <td>Decision Tree</td>\n",
       "      <td>3228.505246</td>\n",
       "      <td>56.819937</td>\n",
       "      <td>11.727780</td>\n",
       "      <td>0.915245</td>\n",
       "    </tr>\n",
       "    <tr>\n",
       "      <th>2</th>\n",
       "      <td>Random Forest</td>\n",
       "      <td>4474.822048</td>\n",
       "      <td>66.894111</td>\n",
       "      <td>24.702988</td>\n",
       "      <td>0.882526</td>\n",
       "    </tr>\n",
       "    <tr>\n",
       "      <th>3</th>\n",
       "      <td>KNN</td>\n",
       "      <td>1027.874919</td>\n",
       "      <td>32.060488</td>\n",
       "      <td>7.068502</td>\n",
       "      <td>0.973016</td>\n",
       "    </tr>\n",
       "    <tr>\n",
       "      <th>4</th>\n",
       "      <td>Decision Tree_op</td>\n",
       "      <td>1557.898715</td>\n",
       "      <td>39.470226</td>\n",
       "      <td>9.915573</td>\n",
       "      <td>0.959102</td>\n",
       "    </tr>\n",
       "    <tr>\n",
       "      <th>5</th>\n",
       "      <td>KNN_op</td>\n",
       "      <td>1081.012079</td>\n",
       "      <td>32.878748</td>\n",
       "      <td>7.425234</td>\n",
       "      <td>0.971621</td>\n",
       "    </tr>\n",
       "  </tbody>\n",
       "</table>\n",
       "</div>"
      ],
      "text/plain": [
       "               Model           MSE        RMSE        MAE  R-squared\n",
       "0  Linear Regression  24752.538433  157.329395  62.494251   0.350192\n",
       "1      Decision Tree   3228.505246   56.819937  11.727780   0.915245\n",
       "2      Random Forest   4474.822048   66.894111  24.702988   0.882526\n",
       "3                KNN   1027.874919   32.060488   7.068502   0.973016\n",
       "4   Decision Tree_op   1557.898715   39.470226   9.915573   0.959102\n",
       "5             KNN_op   1081.012079   32.878748   7.425234   0.971621"
      ]
     },
     "execution_count": 31,
     "metadata": {},
     "output_type": "execute_result"
    }
   ],
   "source": [
    "from sklearn.pipeline import make_pipeline\n",
    "\n",
    "model_opknn = make_pipeline(KNeighborsRegressor())\n",
    "\n",
    "param_grid = {\n",
    "    'kneighborsregressor__n_neighbors': [3, 5, 7, 10],\n",
    "    'kneighborsregressor__weights': ['uniform', 'distance']\n",
    "}\n",
    "\n",
    "grid_search = GridSearchCV(model_opknn, param_grid, cv = 5, scoring='neg_mean_squared_error')\n",
    "grid_search.fit(X_train_scaled, y_train)\n",
    "\n",
    "best_model_opknn = grid_search.best_estimator_\n",
    "\n",
    "print(\"Best Parameters for Random KNN:\", grid_search.best_params_)\n",
    "\n",
    "y_pred_opknn = best_model_opknn.predict(X_test_scaled)\n",
    "\n",
    "results = get_indicators('KNN_op', y_test, y_pred_opknn)\n",
    "\n",
    "EItable.loc[len(EItable)] = results\n",
    "EItable"
   ]
  }
 ],
 "metadata": {
  "kaggle": {
   "accelerator": "none",
   "dataSources": [
    {
     "datasetId": 4054939,
     "sourceId": 7046684,
     "sourceType": "datasetVersion"
    }
   ],
   "dockerImageVersionId": 30587,
   "isGpuEnabled": false,
   "isInternetEnabled": false,
   "language": "python",
   "sourceType": "notebook"
  },
  "kernelspec": {
   "display_name": "Python 3",
   "language": "python",
   "name": "python3"
  },
  "language_info": {
   "codemirror_mode": {
    "name": "ipython",
    "version": 3
   },
   "file_extension": ".py",
   "mimetype": "text/x-python",
   "name": "python",
   "nbconvert_exporter": "python",
   "pygments_lexer": "ipython3",
   "version": "3.10.12"
  },
  "papermill": {
   "default_parameters": {},
   "duration": 72.522063,
   "end_time": "2023-12-19T12:58:24.752783",
   "environment_variables": {},
   "exception": null,
   "input_path": "__notebook__.ipynb",
   "output_path": "__notebook__.ipynb",
   "parameters": {},
   "start_time": "2023-12-19T12:57:12.230720",
   "version": "2.4.0"
  }
 },
 "nbformat": 4,
 "nbformat_minor": 5
}
